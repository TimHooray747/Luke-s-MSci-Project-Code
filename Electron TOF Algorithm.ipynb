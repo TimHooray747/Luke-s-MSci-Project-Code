{
 "cells": [
  {
   "cell_type": "markdown",
   "metadata": {},
   "source": [
    "# Electron Time of Flight (ToF) Algorithm\n",
    "\n",
    "Released under a Creative Commons license by Luke Hasler.\n"
   ]
  },
  {
   "cell_type": "markdown",
   "metadata": {},
   "source": [
    "Firstly let's install kneed onto our system to ensure we have all the necessary programs. The same code can be used to install any Python module by replacing 'kneed' with 'numpy' etc."
   ]
  },
  {
   "cell_type": "code",
   "execution_count": 31,
   "metadata": {},
   "outputs": [
    {
     "name": "stderr",
     "output_type": "stream",
     "text": [
      "Invalid requirement: '#'\n",
      "Traceback (most recent call last):\n",
      "  File \"C:\\Users\\bluse\\Anaconda3\\lib\\site-packages\\pip\\_vendor\\packaging\\requirements.py\", line 93, in __init__\n",
      "    req = REQUIREMENT.parseString(requirement_string)\n",
      "  File \"C:\\Users\\bluse\\Anaconda3\\lib\\site-packages\\pip\\_vendor\\pyparsing.py\", line 1632, in parseString\n",
      "    raise exc\n",
      "  File \"C:\\Users\\bluse\\Anaconda3\\lib\\site-packages\\pip\\_vendor\\pyparsing.py\", line 1622, in parseString\n",
      "    loc, tokens = self._parse( instring, 0 )\n",
      "  File \"C:\\Users\\bluse\\Anaconda3\\lib\\site-packages\\pip\\_vendor\\pyparsing.py\", line 1379, in _parseNoCache\n",
      "    loc,tokens = self.parseImpl( instring, preloc, doActions )\n",
      "  File \"C:\\Users\\bluse\\Anaconda3\\lib\\site-packages\\pip\\_vendor\\pyparsing.py\", line 3395, in parseImpl\n",
      "    loc, exprtokens = e._parse( instring, loc, doActions )\n",
      "  File \"C:\\Users\\bluse\\Anaconda3\\lib\\site-packages\\pip\\_vendor\\pyparsing.py\", line 1379, in _parseNoCache\n",
      "    loc,tokens = self.parseImpl( instring, preloc, doActions )\n",
      "  File \"C:\\Users\\bluse\\Anaconda3\\lib\\site-packages\\pip\\_vendor\\pyparsing.py\", line 3717, in parseImpl\n",
      "    return self.expr._parse( instring, loc, doActions, callPreParse=False )\n",
      "  File \"C:\\Users\\bluse\\Anaconda3\\lib\\site-packages\\pip\\_vendor\\pyparsing.py\", line 1379, in _parseNoCache\n",
      "    loc,tokens = self.parseImpl( instring, preloc, doActions )\n",
      "  File \"C:\\Users\\bluse\\Anaconda3\\lib\\site-packages\\pip\\_vendor\\pyparsing.py\", line 3378, in parseImpl\n",
      "    loc, resultlist = self.exprs[0]._parse( instring, loc, doActions, callPreParse=False )\n",
      "  File \"C:\\Users\\bluse\\Anaconda3\\lib\\site-packages\\pip\\_vendor\\pyparsing.py\", line 1383, in _parseNoCache\n",
      "    loc,tokens = self.parseImpl( instring, preloc, doActions )\n",
      "  File \"C:\\Users\\bluse\\Anaconda3\\lib\\site-packages\\pip\\_vendor\\pyparsing.py\", line 2689, in parseImpl\n",
      "    raise ParseException(instring, loc, self.errmsg, self)\n",
      "pip._vendor.pyparsing.ParseException: Expected W:(abcd...) (at char 0), (line:1, col:1)\n",
      "\n",
      "During handling of the above exception, another exception occurred:\n",
      "\n",
      "Traceback (most recent call last):\n",
      "  File \"C:\\Users\\bluse\\Anaconda3\\lib\\site-packages\\pip\\_internal\\req\\req_install.py\", line 252, in from_line\n",
      "    req = Requirement(req)\n",
      "  File \"C:\\Users\\bluse\\Anaconda3\\lib\\site-packages\\pip\\_vendor\\packaging\\requirements.py\", line 97, in __init__\n",
      "    requirement_string[e.loc:e.loc + 8]))\n",
      "pip._vendor.packaging.requirements.InvalidRequirement: Invalid requirement, parse error at \"'#'\"\n",
      "\n",
      "You are using pip version 10.0.1, however version 21.3.1 is available.\n",
      "You should consider upgrading via the 'python -m pip install --upgrade pip' command.\n"
     ]
    }
   ],
   "source": [
    "import sys\n",
    "!{sys.executable} -m pip install kneed    # Installs kneed if you don't already have it installed."
   ]
  },
  {
   "cell_type": "markdown",
   "metadata": {},
   "source": [
    "Let's import all of the necessary modules for using the code:"
   ]
  },
  {
   "cell_type": "code",
   "execution_count": 105,
   "metadata": {},
   "outputs": [],
   "source": [
    "import pandas as pd                         # Imports modules which will be used throughout the code.\n",
    "import numpy as np                          \n",
    "import matplotlib                           \n",
    "from matplotlib import pyplot as plt        \n",
    "import seaborn as sns\n",
    "from sklearn.linear_model import LinearRegression\n",
    "from scipy import stats, integrate                     \n",
    "from kneed import KneeLocator               \n",
    "import math\n",
    "from sympy.solvers import solve\n",
    "from sympy import Symbol\n",
    "import os"
   ]
  },
  {
   "cell_type": "markdown",
   "metadata": {},
   "source": [
    "Please now input your filename below. If you use a URL please type '?raw=true' after the URL or the data will be read incorrectly. You can also use a file path on your local desktop or via the cloud etc, in which case this should not be necessary.\n",
    "\n",
    "This code will then read in the file to a pandas dataframe and assign each of the columns the names \"Time\" and \"Voltage\" whilst removing the automatically generated script at the top of each column. If you need to access these columns they are saved in the dataframe df and are left unchanged.\n",
    "\n",
    "Make sure you type in the correct resistance in Ohms where prompted to do so. This allows the program to calculate the current using Ohm's law later on which will be important for finding the photocharge and the darkcurrent.\n",
    "\n",
    "Finally, the code removes any 'Not a Number' values (NaN) and resets the index of the dataframe before printing out the first 10 rows so we can check it is formatting correctly."
   ]
  },
  {
   "cell_type": "code",
   "execution_count": 242,
   "metadata": {},
   "outputs": [
    {
     "name": "stdout",
     "output_type": "stream",
     "text": [
      "              Time         Voltage\n",
      "0  -7.90000000e-05  6.40312500e-01\n",
      "1  -7.80000000e-05  6.40218750e-01\n",
      "2  -7.70000000e-05  6.40625000e-01\n",
      "3  -7.60000000e-05  6.40437500e-01\n",
      "4  -7.50000000e-05  6.39437500e-01\n",
      "5  -7.40000000e-05  6.39906250e-01\n",
      "6  -7.30000000e-05  6.40312500e-01\n",
      "7  -7.20000000e-05  6.39656250e-01\n",
      "8  -7.10000000e-05  6.40218750e-01\n",
      "9  -7.00000000e-05  6.40218750e-01\n"
     ]
    }
   ],
   "source": [
    "filename = \"https://github.com/TimHooray747/Luke-s-MSci-Project-Code/blob/main/MSci%20Project%20Data/electrons120Vpad1.csv?raw=true\"  # Insert path to your file here (can be a link to an online dataset)\n",
    "\n",
    "# IT IS VERY IMPORTANT YOU ADD \"?raw=true\" after a URL or it reads it incorrectly!!!\n",
    "\n",
    "#Please input the resistance below in Ohms and the pad voltage in Volts:\n",
    "Resistance = 1000\n",
    "Pad_Voltage = 120\n",
    "\n",
    "df = pd.read_csv(filename, header=None, names=[\"Time\", \"Voltage\"])     # Reads the data frame (df) ready for analysis and\n",
    "                                            # assumes there are no headers in the data. If there are headers in the data \n",
    "                                            # delete \"headers = None, names = [\"Time\", \"Current\"]\".\n",
    "df1 = df.drop(labels = [0,1,2,3,4,5,6,7,8], axis = 0)\n",
    "df1.dropna()\n",
    "\n",
    "df1.reset_index(drop = True, inplace = True)\n",
    "print(df1.head(10))"
   ]
  },
  {
   "cell_type": "markdown",
   "metadata": {},
   "source": [
    "Let's look at the first and last 5 data points of our dataframe:"
   ]
  },
  {
   "cell_type": "code",
   "execution_count": 243,
   "metadata": {
    "scrolled": true
   },
   "outputs": [
    {
     "name": "stdout",
     "output_type": "stream",
     "text": [
      "              Time         Voltage\n",
      "0  -7.90000000e-05  6.40312500e-01\n",
      "1  -7.80000000e-05  6.40218750e-01\n",
      "2  -7.70000000e-05  6.40625000e-01\n",
      "3  -7.60000000e-05  6.40437500e-01\n",
      "4  -7.50000000e-05  6.39437500e-01\n",
      " \n",
      "               Time         Voltage\n",
      "995  9.16000000e-04  6.54437500e-01\n",
      "996  9.17000000e-04  6.53937500e-01\n",
      "997  9.18000000e-04  6.54031250e-01\n",
      "998  9.19000000e-04  6.53906250e-01\n",
      "999  9.20000000e-04  6.54468750e-01\n"
     ]
    }
   ],
   "source": [
    "print(df1.head(5))\n",
    "print(\" \")\n",
    "print(df1.tail(5))"
   ]
  },
  {
   "cell_type": "markdown",
   "metadata": {},
   "source": [
    "Since the data seems to have been cleaned and given column titles successfully, let's save our data to a new csv file which we can use for further analysis:"
   ]
  },
  {
   "cell_type": "code",
   "execution_count": 244,
   "metadata": {},
   "outputs": [],
   "source": [
    "df1.to_csv(\"C:/Users/bluse/PycharmProjects/MSciProject/corrected_testdata.csv\", index=False)"
   ]
  },
  {
   "cell_type": "markdown",
   "metadata": {},
   "source": [
    "Now let's ensure that our data is of the correct type, correct it if it is not, and check the memory usage of the dataframe:"
   ]
  },
  {
   "cell_type": "code",
   "execution_count": 245,
   "metadata": {},
   "outputs": [
    {
     "name": "stdout",
     "output_type": "stream",
     "text": [
      "Information about the data:\n",
      " \n",
      "<class 'pandas.core.frame.DataFrame'>\n",
      "RangeIndex: 1000 entries, 0 to 999\n",
      "Data columns (total 2 columns):\n",
      "Time       1000 non-null object\n",
      "Voltage    1000 non-null object\n",
      "dtypes: object(2)\n",
      "memory usage: 15.7+ KB\n",
      "None\n",
      " \n",
      "The datatypes of each column:\n",
      "Time       float64\n",
      "Voltage    float64\n",
      "dtype: object\n"
     ]
    }
   ],
   "source": [
    "print(\"Information about the data:\")                # Provides the number of data points, whether there are null data points,\n",
    "                                                    # the data types, and the memory usage of the dataframe\n",
    "print(\" \")\n",
    "print(df1.info())\n",
    "\n",
    "df1[\"Time\"] = df1[\"Time\"].astype(\"float\")           # Sets the data to datatype 'float64' if it isn't already in this form\n",
    "df1[\"Voltage\"] = df1[\"Voltage\"].astype(\"float\")\n",
    "df1.reset_index(drop = True, inplace = True)        # Resets the index of the dataframe to avoid confusion\n",
    "\n",
    "print(\" \")\n",
    "print(\"The datatypes of each column:\")\n",
    "print(df1.dtypes)                                   # Checks the new datatypes of the columns"
   ]
  },
  {
   "cell_type": "markdown",
   "metadata": {},
   "source": [
    "The data tells us that we have two columns of 'float64' values with no null values (we eliminated those earlier) with information on the number of data values and the amount of memory used by the dataframe. This function can be used on a variety of classes in Python - not just dataframes.\n",
    "\n",
    "Now we can do some quick and easy data analysis just to get an idea of trends within the data (which we will be able to see easily when we plot the data but this is easy analysis and doesnt take much time) but firstly, now that we have the voltage column exclusively in float form, we can add a new current column to our dataframe using Ohm's law. Notice that we have replaced all infinite data values with NaN values and then removed them to ensure any infinities in the data don't ruin our simulations later."
   ]
  },
  {
   "cell_type": "code",
   "execution_count": 246,
   "metadata": {
    "scrolled": true
   },
   "outputs": [
    {
     "name": "stdout",
     "output_type": "stream",
     "text": [
      "A quick statistical description of the data set:\n",
      " \n",
      "              Time     Voltage     Current\n",
      "count  1000.000000  998.000000  998.000000\n",
      "mean      0.000421    0.770120    0.000770\n",
      "std       0.000289    0.215325    0.000215\n",
      "min      -0.000079    0.639437    0.000639\n",
      "25%       0.000171    0.657375    0.000657\n",
      "50%       0.000420    0.675000    0.000675\n",
      "75%       0.000670    0.757344    0.000757\n",
      "max       0.000920    1.999937    0.002000\n"
     ]
    }
   ],
   "source": [
    "df1['Current'] = df1[\"Voltage\"] / Resistance\n",
    "df1.replace([np.inf, -np.inf], np.NaN, inplace=True)\n",
    "df1.dropna()\n",
    "print(\"A quick statistical description of the data set:\")\n",
    "print(\" \")\n",
    "print(df1.describe(include = \"all\"))"
   ]
  },
  {
   "cell_type": "markdown",
   "metadata": {},
   "source": [
    "Let us now plot the data using a line graph in Matplotlib:"
   ]
  },
  {
   "cell_type": "code",
   "execution_count": 247,
   "metadata": {},
   "outputs": [
    {
     "data": {
      "image/png": "[encoded data removed]",
      "text/plain": [
       "<Figure size 432x288 with 1 Axes>"
      ]
     },
     "metadata": {
      "needs_background": "light"
     },
     "output_type": "display_data"
    }
   ],
   "source": [
    "plt.figure()\n",
    "plt.plot(df1[\"Time\"], df1[\"Current\"])\n",
    "plt.title(\"Time of Flight Data\")\n",
    "plt.xlabel(\"Time / s\")\n",
    "plt.ylabel(\"Current / A\")\n",
    "plt.show()"
   ]
  },
  {
   "cell_type": "markdown",
   "metadata": {},
   "source": [
    "We notice the dark current can be found by taking a mean average current for all points where $t<0$ which will be useful for finding the photocharge and then producing our double logarithmic plot of current and time later but will not be helpful for generating our initial polynomial regression of the trend so I will now filter the data into two dataframes - one with values  $t<0$ and the other $t \\geq 0$:"
   ]
  },
  {
   "cell_type": "code",
   "execution_count": 248,
   "metadata": {},
   "outputs": [
    {
     "name": "stdout",
     "output_type": "stream",
     "text": [
      "Sample data from $t<0$\n",
      " \n",
      "       Time   Voltage   Current\n",
      "0  0.000000  0.639781  0.000640\n",
      "1  0.000001  1.986563  0.001987\n",
      "2  0.000002  1.999937  0.002000\n",
      "3  0.000003  1.999937  0.002000\n",
      "4  0.000006  1.967375  0.001967\n",
      " \n",
      "Sample data from $t >= 0$\n",
      " \n",
      "       Time   Voltage   Current\n",
      "0 -0.000079  0.640312  0.000640\n",
      "1 -0.000078  0.640219  0.000640\n",
      "2 -0.000077  0.640625  0.000641\n",
      "3 -0.000076  0.640437  0.000640\n",
      "4 -0.000075  0.639437  0.000639\n"
     ]
    }
   ],
   "source": [
    "with open(\"C:/Users/bluse/PycharmProjects/MSciProject/corrected_testdata.csv\", 'r') as f:\n",
    "    with open(\"C:/Users/bluse/PycharmProjects/MSciProject/corrected_testdata_2.csv\", 'w') as g:\n",
    "        with open(\"C:/Users/bluse/PycharmProjects/MSciProject/correlated_testdata_negative.csv\", 'w') as h:\n",
    "            for row in f:\n",
    "                if row[0] != '-':\n",
    "                    g.write(row)\n",
    "                else:\n",
    "                    h.write(row)\n",
    "                \n",
    "# The above section reads the first corrected file and writes a new csv file containing no values where the first character\n",
    "# is '-' thereby removing all negative values. This means we can still access the data with negative values whilst also\n",
    "# having cleaned the initial data.\n",
    "\n",
    "df2 = pd.read_csv(\"C:/Users/bluse/PycharmProjects/MSciProject/corrected_testdata_2.csv\") # A new dataframe is created.\n",
    "df_negative = pd.read_csv(\"C:/Users/bluse/PycharmProjects/MSciProject/correlated_testdata_negative.csv\", header=None, names=[\"Time\", \"Voltage\"])\n",
    "df2['Current'] = df2[\"Voltage\"] / Resistance\n",
    "df_negative[\"Current\"] = df_negative[\"Voltage\"] / Resistance\n",
    "df2.replace([np.inf, -np.inf], np.NaN, inplace=True)\n",
    "df2.dropna(inplace = True)\n",
    "df2.reset_index(drop = True, inplace = True)\n",
    "print(\"Sample data from $t<0$\")\n",
    "print(\" \")\n",
    "print(df2.head(5))\n",
    "print(\" \")\n",
    "print(\"Sample data from $t >= 0$\")\n",
    "print(\" \")\n",
    "print(df_negative.head(5))"
   ]
  },
  {
   "cell_type": "markdown",
   "metadata": {},
   "source": [
    "Now the algorithm finds the dark current by averaging the current values of datapoints with $t<0$ and subtracts the dark current from the positive t dataframe. It then creates new columns for the logarithm of the time and current values and removes the infinite values created by taking logarithms of negative values (some of the noise with low values of current will be lower than the dark current so appear as negative when the logarithm is applied to them). The new dataframe is then printed out."
   ]
  },
  {
   "cell_type": "code",
   "execution_count": 249,
   "metadata": {},
   "outputs": [
    {
     "name": "stdout",
     "output_type": "stream",
     "text": [
      "0.0006408777689873417\n",
      "DF2 Head\n",
      "       Time   Voltage   Current  Log Time  Log Current\n",
      "1  0.000001  1.986563  0.001346 -6.000000    -2.871057\n",
      "2  0.000002  1.999937  0.001359 -5.698970    -2.866761\n",
      "3  0.000003  1.999937  0.001359 -5.522879    -2.866761\n",
      "4  0.000006  1.967375  0.001326 -5.221849    -2.877294\n",
      "5  0.000007  1.877844  0.001237 -5.154902    -2.907642\n"
     ]
    },
    {
     "name": "stderr",
     "output_type": "stream",
     "text": [
      "C:\\Users\\bluse\\Anaconda3\\lib\\site-packages\\ipykernel_launcher.py:4: RuntimeWarning: divide by zero encountered in log10\n",
      "  after removing the cwd from sys.path.\n",
      "C:\\Users\\bluse\\Anaconda3\\lib\\site-packages\\ipykernel_launcher.py:5: RuntimeWarning: invalid value encountered in log10\n",
      "  \"\"\"\n"
     ]
    }
   ],
   "source": [
    "dark_current = df_negative[\"Current\"].mean()\n",
    "print(dark_current)\n",
    "df2['Current'] -= dark_current\n",
    "df2['Log Time'] = np.log10(df2[\"Time\"])\n",
    "df2['Log Current'] = np.log10(df2[\"Current\"])\n",
    "df2.replace([np.inf, -np.inf], np.NaN, inplace=True)\n",
    "df2.dropna(inplace = True)\n",
    "print(\"DF2 Head\")\n",
    "print(df2.head(5))"
   ]
  },
  {
   "cell_type": "markdown",
   "metadata": {},
   "source": [
    "Now let's create a polynomial regression for the data so that we can calculate the photocharge. We can choose the number of free parameters we wish to use and the number of points in the linspace used to find our polynomial. We then plot the graph of current against time with the graph of the polynomial regression included to allow comparison and fine tuning.\n",
    "\n",
    "Next, the following integral is taken to calculate the photocharge:\n",
    "\n",
    "###                             $Q_{PHOTO} = \\int^{t_{max}}_{t_{min}} I(t) . dt$ "
   ]
  },
  {
   "cell_type": "code",
   "execution_count": 250,
   "metadata": {},
   "outputs": [
    {
     "name": "stdout",
     "output_type": "stream",
     "text": [
      "The generated polynomial regression:\n",
      " \n",
      "           20             19             18            17\n",
      "5.386e+63 x  - 4.738e+61 x  + 1.813e+59 x  - 3.79e+56 x \n",
      "              16             15             14             13\n",
      " + 4.253e+53 x  - 1.315e+50 x  - 2.925e+47 x  + 3.855e+44 x \n",
      "              12             11             10            9\n",
      " - 3.971e+40 x  - 3.676e+38 x  + 4.907e+35 x  - 3.56e+32 x\n",
      "              8             7             6             5             4\n",
      " + 1.719e+29 x - 5.858e+25 x + 1.435e+22 x - 2.533e+18 x + 3.192e+14 x\n",
      "              3             2\n",
      " - 2.796e+10 x + 1.602e+06 x - 55.65 x + 0.001487\n"
     ]
    },
    {
     "name": "stderr",
     "output_type": "stream",
     "text": [
      "C:\\Users\\bluse\\Anaconda3\\lib\\site-packages\\ipykernel_launcher.py:1: RankWarning: Polyfit may be poorly conditioned\n",
      "  \"\"\"Entry point for launching an IPython kernel.\n"
     ]
    },
    {
     "data": {
      "image/png": "[encoded data removed]",
      "text/plain": [
       "<Figure size 432x288 with 1 Axes>"
      ]
     },
     "metadata": {
      "needs_background": "light"
     },
     "output_type": "display_data"
    },
    {
     "name": "stdout",
     "output_type": "stream",
     "text": [
      "Photocharge: 1.3079055610332886e-07 with an error of: 1.065992798562846e-11\n"
     ]
    }
   ],
   "source": [
    "a = np.polyfit(df2[\"Time\"], df2[\"Current\"], 20) # You can change the number of free parameters here\n",
    "b = np.poly1d(a)\n",
    "print(\"The generated polynomial regression:\")\n",
    "print(\" \")\n",
    "print(b)                                        # We generate a polynomial expression for the data\n",
    "\n",
    "myline = np.linspace(df2[\"Time\"].min(), df2[\"Time\"].max(), 1000)    # We can choose the number of linspace points here\n",
    "\n",
    "plt.figure()\n",
    "plt.plot(df2[\"Time\"], df2[\"Current\"])\n",
    "plt.plot(myline, b(myline))\n",
    "plt.title(\"Current against Time\")\n",
    "plt.xlabel(\"Time / s\")\n",
    "plt.ylabel(\"Current / A\")\n",
    "plt.show()\n",
    "\n",
    "photocharge, photocharge_error = integrate.quad(b, df2[\"Time\"].min(), df2[\"Time\"].max()) \n",
    "print(\"Photocharge:\", photocharge, \"with an error of:\", photocharge_error)"
   ]
  },
  {
   "cell_type": "markdown",
   "metadata": {},
   "source": [
    "It is important to note that the error provided here does not take the fact we have converted from the raw data to a polynomial regression into account. \n",
    "\n",
    "Having found the photocharge it would now be wise to plot our double logarithmic plot."
   ]
  },
  {
   "cell_type": "code",
   "execution_count": 251,
   "metadata": {},
   "outputs": [
    {
     "name": "stdout",
     "output_type": "stream",
     "text": [
      "Line plot of the data using matplotlib:\n"
     ]
    },
    {
     "data": {
      "image/png": "[encoded data removed]",
      "text/plain": [
       "<Figure size 432x288 with 1 Axes>"
      ]
     },
     "metadata": {
      "needs_background": "light"
     },
     "output_type": "display_data"
    }
   ],
   "source": [
    "print(\"Line plot of the data using matplotlib:\")\n",
    "plt.figure()\n",
    "plt.plot(df2[\"Log Time\"], df2[\"Log Current\"])\n",
    "plt.title(\"log(Current) against log(Time)\")\n",
    "plt.xlabel(\"log(Time)\")\n",
    "plt.ylabel(\"log(Current)\")\n",
    "plt.show()"
   ]
  },
  {
   "cell_type": "markdown",
   "metadata": {},
   "source": [
    "Let's create a polynomial regression of our double logarithmic plot so that we can apply a knee fitting algorithm to it later. We see in the results that if we try to take a regression across the entire dataset we see large differences in the lowest parts of the data so it will be wise instead to select an area of the data where the knee is likely to occur and then find a different regression curve using only that data to avoid compromising the algorithm (these strange curves at the beginning can confuse the knee finding algorithm).\n",
    "\n",
    "The first graph should be used to visualise where the knee is on the t-axis so that the user can input correct outerbounds for the knee so that the bottom graph encompases the entire knee and can create a useful polynomial. Remember to check and change these values if you don't see a knee in the second graph."
   ]
  },
  {
   "cell_type": "code",
   "execution_count": 253,
   "metadata": {},
   "outputs": [
    {
     "data": {
      "image/png": "[encoded data removed]",
      "text/plain": [
       "<Figure size 432x288 with 1 Axes>"
      ]
     },
     "metadata": {
      "needs_background": "light"
     },
     "output_type": "display_data"
    },
    {
     "name": "stdout",
     "output_type": "stream",
     "text": [
      "The polynomial for the double logarithmic plot:\n",
      " \n",
      "        10         9         8        7        6             5\n",
      "0.1291 x  + 5.586 x + 107.8 x + 1223 x + 9019 x + 4.517e+04 x\n",
      "              4             3             2\n",
      " + 1.556e+05 x + 3.638e+05 x + 5.523e+05 x + 4.916e+05 x + 1.948e+05\n",
      " \n",
      "--------------------------------------------------------------------------------------------------\n"
     ]
    },
    {
     "data": {
      "image/png": "[encoded data removed]",
      "text/plain": [
       "<Figure size 432x288 with 1 Axes>"
      ]
     },
     "metadata": {
      "needs_background": "light"
     },
     "output_type": "display_data"
    },
    {
     "name": "stdout",
     "output_type": "stream",
     "text": [
      "The zoomed-in polynomial for the double logarithmic plot:\n",
      " \n",
      "       6         5        4             3             2\n",
      "11.66 x + 291.8 x + 3037 x + 1.683e+04 x + 5.233e+04 x + 8.661e+04 x + 5.958e+04\n"
     ]
    }
   ],
   "source": [
    "f = np.polyfit(df2[\"Log Time\"], df2[\"Log Current\"], 10)         # We create a polynomial regression\n",
    "p = np.poly1d(f)\n",
    "\n",
    "myline_1 = np.linspace(df2[\"Log Time\"].min(), df2[\"Log Time\"].max(), 100)  # A linspace is created for the plot\n",
    "\n",
    "plt.figure()\n",
    "plt.plot(df2[\"Log Time\"], df2[\"Log Current\"])\n",
    "plt.plot(myline_1, p(myline_1))\n",
    "plt.title(\"log(Current) against log(Time)\")\n",
    "plt.xlabel(\"log(Time)\")\n",
    "plt.ylabel(\"log(Current)\")\n",
    "plt.show()\n",
    "\n",
    "print(\"The polynomial for the double logarithmic plot:\")\n",
    "print(\" \")\n",
    "print(p)\n",
    "print(\" \")\n",
    "print(\"--------------------------------------------------------------------------------------------------\")\n",
    "df3 = df2[df2[\"Log Time\"] < -3.6]    # These values are where we zoom in along the t axis - change values as needed\n",
    "df3 = df3[df3[\"Log Time\"] > -4.5]\n",
    "\n",
    "f1 = np.polyfit(df3[\"Log Time\"], df3[\"Log Current\"], 6)\n",
    "p1 = np.poly1d(f1)\n",
    "\n",
    "myline_2 = np.linspace(df3[\"Log Time\"].min(), df3[\"Log Time\"].max(), 100)\n",
    "\n",
    "plt.figure()\n",
    "plt.plot(df3[\"Log Time\"], df3[\"Log Current\"])\n",
    "plt.plot(myline_2, p1(myline_2))\n",
    "plt.title(\"log(Current) against log(Time)\")\n",
    "plt.xlabel(\"log(Time)\")\n",
    "plt.ylabel(\"log(Current)\")\n",
    "plt.show()\n",
    "\n",
    "print(\"The zoomed-in polynomial for the double logarithmic plot:\")\n",
    "print(\" \")\n",
    "print(p1)"
   ]
  },
  {
   "cell_type": "markdown",
   "metadata": {},
   "source": [
    "This section of code creates two linear regressions before and after the knee point (using user input numbers to indicate where to search) and then finds where the two lines intersect. You should select values close to where clear curvature appears but on as flat a section of the curve as physically possible. The values returned are the coordinates of the intersection."
   ]
  },
  {
   "cell_type": "code",
   "execution_count": 254,
   "metadata": {},
   "outputs": [
    {
     "name": "stdout",
     "output_type": "stream",
     "text": [
      "The Log(Time) value of the intersection: -4.03194472087046\n",
      "The Log(Current) value of the intersection: -3.34065485736486\n"
     ]
    }
   ],
   "source": [
    "df4 = df3[df3[\"Log Time\"] < -3.8]\n",
    "df5 = df3[df3[\"Log Time\"] > -4.3]\n",
    "\n",
    "v = np.array(df4[\"Log Time\"].values.tolist())\n",
    "w = df4[\"Log Current\"].tolist()\n",
    "x = v.reshape((-1, 1))\n",
    "y = w\n",
    "\n",
    "model = LinearRegression().fit(x, y)\n",
    "intercept_1 = model.intercept_\n",
    "slope_1 = model.coef_\n",
    "#print('intercept:', intercept_1)\n",
    "#print('slope:', slope_1)\n",
    "\n",
    "v = np.array(df5[\"Log Time\"].values.tolist())\n",
    "w = df5[\"Log Current\"].tolist()\n",
    "x = v.reshape((-1, 1))\n",
    "y = w\n",
    "\n",
    "model = LinearRegression().fit(x, y)\n",
    "intercept_2 = model.intercept_\n",
    "slope_2 = model.coef_\n",
    "#print('intercept:', intercept_2)\n",
    "#print('slope:', slope_2)\n",
    "\n",
    "x = Symbol('x')\n",
    "m = solve(intercept_1 -intercept_2 + (slope_1 - slope_2) * x, x)\n",
    "print(\"The Log(Time) value of the intersection:\", m[x])\n",
    "n = intercept_1 + slope_1 * m[x]\n",
    "o = n[0]\n",
    "print(\"The Log(Current) value of the intersection:\", o)"
   ]
  },
  {
   "cell_type": "markdown",
   "metadata": {},
   "source": [
    "Now we will attempt to find a more accurate representation of the knee point using the Kneed package for Python which is designed to search for knees. It can print out the values of the coordinate of the knee and can also print a visual representation of the knee and the knee point."
   ]
  },
  {
   "cell_type": "code",
   "execution_count": 255,
   "metadata": {},
   "outputs": [
    {
     "name": "stdout",
     "output_type": "stream",
     "text": [
      " \n",
      "Log(Time) value of knee point\n",
      "-3.9617500131295205\n",
      " \n",
      "Log(Current) value of knee point\n",
      "-3.3516913347120862\n",
      "None\n"
     ]
    },
    {
     "data": {
      "image/png": "[encoded data removed]",
      "text/plain": [
       "<Figure size 432x432 with 1 Axes>"
      ]
     },
     "metadata": {
      "needs_background": "light"
     },
     "output_type": "display_data"
    }
   ],
   "source": [
    "#kneedle = KneeLocator(myline, b(myline), S=1.0, curve = \"convex\", direction = \"decreasing\")\n",
    "#print(\"Knee of the curve\")\n",
    "\n",
    "#print(kneedle.knee)\n",
    "#print(\" \")\n",
    "#print(\"Elbow of the curve\")\n",
    "\n",
    "#print(kneedle.elbow)\n",
    "#print(\" \")\n",
    "#print(\"Current value of knee point\")\n",
    "\n",
    "#print(kneedle.knee_y)\n",
    "#print(kneedle.plot_knee())\n",
    "\n",
    "kneedle_2 = KneeLocator(myline_2, p(myline_2), S=1.0, curve = \"concave\", direction = \"decreasing\")\n",
    "knee_x = kneedle_2.knee\n",
    "knee_y = kneedle_2.knee_y\n",
    "print(\" \")\n",
    "print(\"Log(Time) value of knee point\")\n",
    "print(knee_x)\n",
    "print(\" \")\n",
    "#print(\"Elbow of the curve\")\n",
    "\n",
    "#print(kneedle_2.elbow)\n",
    "#print(\" \")\n",
    "print(\"Log(Current) value of knee point\")\n",
    "print(knee_y)\n",
    "print(kneedle_2.plot_knee())"
   ]
  },
  {
   "cell_type": "markdown",
   "metadata": {},
   "source": [
    "Finally, this code takes all of the main results from this process and saves them into a csv file. If the file already exists it will append data into the existing table - if the file does not yet exist it will instead create it wherever the filepath has specified."
   ]
  },
  {
   "cell_type": "code",
   "execution_count": 256,
   "metadata": {},
   "outputs": [
    {
     "name": "stdout",
     "output_type": "stream",
     "text": [
      "   Pad Voltage/V  Resistance/Ohms  Dark current/A  Photocharge/Coulombs  \\\n",
      "0            120             1000        0.000641          1.307906e-07   \n",
      "\n",
      "   Photocharge error/C    Log(Time) [Int] Log(Current) [Int]  \\\n",
      "0         1.065993e-11  -4.03194472087046  -3.34065485736486   \n",
      "\n",
      "   Log(Time) [Knee]  Log(Current) [Knee]  \n",
      "0          -3.96175            -3.351691  \n"
     ]
    }
   ],
   "source": [
    "data = {'Pad Voltage/V': [Pad_Voltage], 'Resistance/Ohms': [Resistance], 'Dark current/A': [dark_current], 'Photocharge/Coulombs': [photocharge], 'Photocharge error/C': [photocharge_error], 'Log(Time) [Int]': [m[x]], 'Log(Current) [Int]': [o], 'Log(Time) [Knee]': [knee_x], 'Log(Current) [Knee]': [knee_y]}  \n",
    "main_dataframe = pd.DataFrame(data)\n",
    "    \n",
    "if os.path.isfile('C:/Users/bluse/PycharmProjects/MSciProject/electron_plate_data.csv') == True:\n",
    "    main_dataframe.to_csv('C:/Users/bluse/PycharmProjects/MSciProject/electron_plate_data.csv', mode = 'a', header = False, index = False)\n",
    "else:\n",
    "    main_dataframe.to_csv('C:/Users/bluse/PycharmProjects/MSciProject/electron_plate_data.csv', header = True, index = False)\n",
    "    \n",
    "    \n"
   ]
  }
 ],
 "metadata": {
  "kernelspec": {
   "display_name": "Python 3",
   "language": "python",
   "name": "python3"
  },
  "language_info": {
   "codemirror_mode": {
    "name": "ipython",
    "version": 3
   },
   "file_extension": ".py",
   "mimetype": "text/x-python",
   "name": "python",
   "nbconvert_exporter": "python",
   "pygments_lexer": "ipython3",
   "version": "3.7.0"
  }
 },
 "nbformat": 4,
 "nbformat_minor": 2
}
