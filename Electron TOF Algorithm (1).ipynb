{
 "cells": [
  {
   "cell_type": "markdown",
   "metadata": {},
   "source": [
    "# Electron Time of Flight (ToF) Algorithm\n",
    "\n",
    "Released under a Creative Commons license by Luke Hasler.\n"
   ]
  },
  {
   "cell_type": "markdown",
   "metadata": {},
   "source": [
    "Firstly let's install kneed onto our system to ensure we have all the necessary programs. The same code can be used to install any Python module by replacing 'kneed' with 'numpy' etc."
   ]
  },
  {
   "cell_type": "code",
   "execution_count": 5,
   "metadata": {
    "collapsed": true
   },
   "outputs": [
    {
     "name": "stdout",
     "output_type": "stream",
     "text": [
      "Collecting bqplot\n",
      "  Downloading bqplot-0.12.31-py2.py3-none-any.whl (1.2 MB)\n",
      "Collecting pandas<2.0.0,>=1.0.0\n",
      "  Downloading pandas-1.1.5-cp37-cp37m-win_amd64.whl (8.7 MB)\n",
      "Collecting ipywidgets>=7.5.0\n",
      "  Downloading ipywidgets-7.6.5-py2.py3-none-any.whl (121 kB)\n",
      "Requirement already satisfied: traitlets>=4.3.0 in c:\\users\\bluse\\anaconda3\\lib\\site-packages (from bqplot) (4.3.2)\n",
      "Collecting traittypes>=0.0.6\n",
      "  Downloading traittypes-0.2.1-py2.py3-none-any.whl (8.6 kB)\n",
      "Requirement already satisfied: numpy<2.0.0,>=1.10.4 in c:\\users\\bluse\\anaconda3\\lib\\site-packages (from bqplot) (1.15.1)\n",
      "Requirement already satisfied: ipykernel>=4.5.1 in c:\\users\\bluse\\anaconda3\\lib\\site-packages (from ipywidgets>=7.5.0->bqplot) (4.10.0)\n",
      "Collecting jupyterlab-widgets>=1.0.0\n",
      "  Downloading jupyterlab_widgets-1.0.2-py3-none-any.whl (243 kB)\n",
      "Requirement already satisfied: ipython-genutils~=0.2.0 in c:\\users\\bluse\\anaconda3\\lib\\site-packages (from ipywidgets>=7.5.0->bqplot) (0.2.0)\n",
      "Requirement already satisfied: nbformat>=4.2.0 in c:\\users\\bluse\\anaconda3\\lib\\site-packages (from ipywidgets>=7.5.0->bqplot) (4.4.0)\n",
      "Requirement already satisfied: ipython>=4.0.0 in c:\\users\\bluse\\anaconda3\\lib\\site-packages (from ipywidgets>=7.5.0->bqplot) (6.5.0)\n",
      "Collecting widgetsnbextension~=3.5.0\n",
      "  Downloading widgetsnbextension-3.5.2-py2.py3-none-any.whl (1.6 MB)\n",
      "Collecting numpy<2.0.0,>=1.10.4\n",
      "  Downloading numpy-1.21.4-cp37-cp37m-win_amd64.whl (14.0 MB)\n",
      "Requirement already satisfied: python-dateutil>=2.7.3 in c:\\users\\bluse\\anaconda3\\lib\\site-packages (from pandas<2.0.0,>=1.0.0->bqplot) (2.7.3)\n",
      "Requirement already satisfied: pytz>=2017.2 in c:\\users\\bluse\\anaconda3\\lib\\site-packages (from pandas<2.0.0,>=1.0.0->bqplot) (2018.5)\n",
      "Requirement already satisfied: decorator in c:\\users\\bluse\\anaconda3\\lib\\site-packages (from traitlets>=4.3.0->bqplot) (4.3.0)\n",
      "Requirement already satisfied: six in c:\\users\\bluse\\anaconda3\\lib\\site-packages (from traitlets>=4.3.0->bqplot) (1.11.0)\n",
      "Requirement already satisfied: jupyter_client in c:\\users\\bluse\\anaconda3\\lib\\site-packages (from ipykernel>=4.5.1->ipywidgets>=7.5.0->bqplot) (5.2.3)\n",
      "Requirement already satisfied: tornado>=4.0 in c:\\users\\bluse\\anaconda3\\lib\\site-packages (from ipykernel>=4.5.1->ipywidgets>=7.5.0->bqplot) (5.1)\n",
      "Requirement already satisfied: setuptools>=18.5 in c:\\users\\bluse\\anaconda3\\lib\\site-packages (from ipython>=4.0.0->ipywidgets>=7.5.0->bqplot) (40.2.0)\n",
      "Requirement already satisfied: pickleshare in c:\\users\\bluse\\anaconda3\\lib\\site-packages (from ipython>=4.0.0->ipywidgets>=7.5.0->bqplot) (0.7.4)\n",
      "Requirement already satisfied: colorama in c:\\users\\bluse\\anaconda3\\lib\\site-packages (from ipython>=4.0.0->ipywidgets>=7.5.0->bqplot) (0.3.9)\n",
      "Requirement already satisfied: pygments in c:\\users\\bluse\\anaconda3\\lib\\site-packages (from ipython>=4.0.0->ipywidgets>=7.5.0->bqplot) (2.2.0)\n",
      "Requirement already satisfied: simplegeneric>0.8 in c:\\users\\bluse\\anaconda3\\lib\\site-packages (from ipython>=4.0.0->ipywidgets>=7.5.0->bqplot) (0.8.1)\n",
      "Requirement already satisfied: prompt-toolkit<2.0.0,>=1.0.15 in c:\\users\\bluse\\anaconda3\\lib\\site-packages (from ipython>=4.0.0->ipywidgets>=7.5.0->bqplot) (1.0.15)\n",
      "Requirement already satisfied: jedi>=0.10 in c:\\users\\bluse\\anaconda3\\lib\\site-packages (from ipython>=4.0.0->ipywidgets>=7.5.0->bqplot) (0.12.1)\n",
      "Requirement already satisfied: backcall in c:\\users\\bluse\\anaconda3\\lib\\site-packages (from ipython>=4.0.0->ipywidgets>=7.5.0->bqplot) (0.1.0)\n",
      "Requirement already satisfied: jsonschema!=2.5.0,>=2.4 in c:\\users\\bluse\\anaconda3\\lib\\site-packages (from nbformat>=4.2.0->ipywidgets>=7.5.0->bqplot) (2.6.0)\n",
      "Requirement already satisfied: jupyter-core in c:\\users\\bluse\\anaconda3\\lib\\site-packages (from nbformat>=4.2.0->ipywidgets>=7.5.0->bqplot) (4.4.0)\n",
      "Requirement already satisfied: notebook>=4.4.1 in c:\\users\\bluse\\anaconda3\\lib\\site-packages (from widgetsnbextension~=3.5.0->ipywidgets>=7.5.0->bqplot) (5.6.0)\n",
      "Requirement already satisfied: parso>=0.3.0 in c:\\users\\bluse\\anaconda3\\lib\\site-packages (from jedi>=0.10->ipython>=4.0.0->ipywidgets>=7.5.0->bqplot) (0.3.1)\n",
      "Requirement already satisfied: prometheus-client in c:\\users\\bluse\\anaconda3\\lib\\site-packages (from notebook>=4.4.1->widgetsnbextension~=3.5.0->ipywidgets>=7.5.0->bqplot) (0.3.1)\n",
      "Requirement already satisfied: pyzmq>=17 in c:\\users\\bluse\\anaconda3\\lib\\site-packages (from notebook>=4.4.1->widgetsnbextension~=3.5.0->ipywidgets>=7.5.0->bqplot) (17.1.2)\n",
      "Requirement already satisfied: Send2Trash in c:\\users\\bluse\\anaconda3\\lib\\site-packages (from notebook>=4.4.1->widgetsnbextension~=3.5.0->ipywidgets>=7.5.0->bqplot) (1.5.0)\n",
      "Requirement already satisfied: terminado>=0.8.1 in c:\\users\\bluse\\anaconda3\\lib\\site-packages (from notebook>=4.4.1->widgetsnbextension~=3.5.0->ipywidgets>=7.5.0->bqplot) (0.8.1)\n",
      "Requirement already satisfied: nbconvert in c:\\users\\bluse\\anaconda3\\lib\\site-packages (from notebook>=4.4.1->widgetsnbextension~=3.5.0->ipywidgets>=7.5.0->bqplot) (5.4.0)\n",
      "Requirement already satisfied: jinja2 in c:\\users\\bluse\\anaconda3\\lib\\site-packages (from notebook>=4.4.1->widgetsnbextension~=3.5.0->ipywidgets>=7.5.0->bqplot) (2.10)\n",
      "Requirement already satisfied: wcwidth in c:\\users\\bluse\\anaconda3\\lib\\site-packages (from prompt-toolkit<2.0.0,>=1.0.15->ipython>=4.0.0->ipywidgets>=7.5.0->bqplot) (0.1.7)\n",
      "Requirement already satisfied: MarkupSafe>=0.23 in c:\\users\\bluse\\anaconda3\\lib\\site-packages (from jinja2->notebook>=4.4.1->widgetsnbextension~=3.5.0->ipywidgets>=7.5.0->bqplot) (1.0)\n",
      "Requirement already satisfied: mistune>=0.8.1 in c:\\users\\bluse\\anaconda3\\lib\\site-packages (from nbconvert->notebook>=4.4.1->widgetsnbextension~=3.5.0->ipywidgets>=7.5.0->bqplot) (0.8.3)\n",
      "Requirement already satisfied: entrypoints>=0.2.2 in c:\\users\\bluse\\anaconda3\\lib\\site-packages (from nbconvert->notebook>=4.4.1->widgetsnbextension~=3.5.0->ipywidgets>=7.5.0->bqplot) (0.2.3)\n",
      "Requirement already satisfied: bleach in c:\\users\\bluse\\anaconda3\\lib\\site-packages (from nbconvert->notebook>=4.4.1->widgetsnbextension~=3.5.0->ipywidgets>=7.5.0->bqplot) (2.1.4)\n",
      "Requirement already satisfied: pandocfilters>=1.4.1 in c:\\users\\bluse\\anaconda3\\lib\\site-packages (from nbconvert->notebook>=4.4.1->widgetsnbextension~=3.5.0->ipywidgets>=7.5.0->bqplot) (1.4.2)\n",
      "Requirement already satisfied: testpath in c:\\users\\bluse\\anaconda3\\lib\\site-packages (from nbconvert->notebook>=4.4.1->widgetsnbextension~=3.5.0->ipywidgets>=7.5.0->bqplot) (0.3.1)\n",
      "Requirement already satisfied: defusedxml in c:\\users\\bluse\\anaconda3\\lib\\site-packages (from nbconvert->notebook>=4.4.1->widgetsnbextension~=3.5.0->ipywidgets>=7.5.0->bqplot) (0.5.0)\n",
      "Requirement already satisfied: html5lib!=1.0b1,!=1.0b2,!=1.0b3,!=1.0b4,!=1.0b5,!=1.0b6,!=1.0b7,!=1.0b8,>=0.99999999pre in c:\\users\\bluse\\anaconda3\\lib\\site-packages (from bleach->nbconvert->notebook>=4.4.1->widgetsnbextension~=3.5.0->ipywidgets>=7.5.0->bqplot) (1.0.1)\n",
      "Requirement already satisfied: webencodings in c:\\users\\bluse\\anaconda3\\lib\\site-packages (from html5lib!=1.0b1,!=1.0b2,!=1.0b3,!=1.0b4,!=1.0b5,!=1.0b6,!=1.0b7,!=1.0b8,>=0.99999999pre->bleach->nbconvert->notebook>=4.4.1->widgetsnbextension~=3.5.0->ipywidgets>=7.5.0->bqplot) (0.5.1)\n",
      "Installing collected packages: widgetsnbextension, numpy, jupyterlab-widgets, traittypes, pandas, ipywidgets, bqplot\n",
      "  Attempting uninstall: widgetsnbextension\n",
      "    Found existing installation: widgetsnbextension 3.4.1\n",
      "    Uninstalling widgetsnbextension-3.4.1:\n",
      "      Successfully uninstalled widgetsnbextension-3.4.1\n",
      "  Attempting uninstall: numpy\n",
      "    Found existing installation: numpy 1.15.1\n",
      "    Uninstalling numpy-1.15.1:\n",
      "      Successfully uninstalled numpy-1.15.1\n"
     ]
    },
    {
     "name": "stderr",
     "output_type": "stream",
     "text": [
      "ERROR: Could not install packages due to an OSError: [WinError 5] Access is denied: 'c:\\\\users\\\\bluse\\\\anaconda3\\\\lib\\\\site-packages\\\\~umpy\\\\core\\\\multiarray.cp37-win_amd64.pyd'\n",
      "Consider using the `--user` option or check the permissions.\n",
      "\n",
      "WARNING: Ignoring invalid distribution -umpy (c:\\users\\bluse\\anaconda3\\lib\\site-packages)\n",
      "ERROR: Invalid requirement: '#'\n",
      "WARNING: Ignoring invalid distribution -umpy (c:\\users\\bluse\\anaconda3\\lib\\site-packages)\n",
      "WARNING: Ignoring invalid distribution -umpy (c:\\users\\bluse\\anaconda3\\lib\\site-packages)\n"
     ]
    }
   ],
   "source": [
    "import sys\n",
    "!{sys.executable} -m pip install kneed    # Installs kneed if you don't already have it installed."
   ]
  },
  {
   "cell_type": "markdown",
   "metadata": {},
   "source": [
    "Let's import all of the necessary modules for using the code:"
   ]
  },
  {
   "cell_type": "code",
   "execution_count": 138,
   "metadata": {},
   "outputs": [],
   "source": [
    "import pandas as pd                         # Imports modules which will be used throughout the code.\n",
    "import numpy as np                          \n",
    "import matplotlib                           \n",
    "from matplotlib import pyplot as plt        \n",
    "import seaborn as sns\n",
    "from sklearn.linear_model import LinearRegression\n",
    "from scipy import stats, integrate                     \n",
    "from kneed import KneeLocator               \n",
    "import math\n",
    "from sympy.solvers import solve\n",
    "from sympy import Symbol\n",
    "import os\n",
    "import ipywidgets as widgets"
   ]
  },
  {
   "cell_type": "code",
   "execution_count": 325,
   "metadata": {},
   "outputs": [],
   "source": [
    "widget_width = '900px'\n",
    "padding = '0px 0px 0px 4px'"
   ]
  },
  {
   "cell_type": "code",
   "execution_count": 326,
   "metadata": {},
   "outputs": [
    {
     "data": {
      "application/vnd.jupyter.widget-view+json": {
       "model_id": "33a1267671b0499d9246c88a66b51541",
       "version_major": 2,
       "version_minor": 0
      },
      "text/plain": [
       "Text(value='', description='Filepath to save the data:', layout=Layout(padding='0px 0px 0px 4px', width='900px…"
      ]
     },
     "metadata": {},
     "output_type": "display_data"
    }
   ],
   "source": [
    "text0 = widgets.Text(\n",
    "    value=\"\",\n",
    "    description=\"File Path or URL:\",\n",
    "    placeholder=\"Enter file path or URL to file adding '?raw=true' to the end of any URL\",\n",
    "    style={\"description_width\": \"initial\"},\n",
    "    layout=widgets.Layout(width=widget_width, padding=padding),\n",
    ")\n",
    "text0\n",
    "\n",
    "text1 = widgets.Text(\n",
    "    value=\"\",\n",
    "    description=\"Pad Voltage / V:\",\n",
    "    placeholder=\"Enter pad voltage\",\n",
    "    style={\"description_width\": \"initial\"},\n",
    "    layout=widgets.Layout(width=widget_width, padding=padding),\n",
    ")\n",
    "text1\n",
    "\n",
    "text2 = widgets.Text(\n",
    "    value=\"\",\n",
    "    description=\"Resistance / $ \\Omega $:\",\n",
    "    placeholder=\"Enter resistance\",\n",
    "    style={\"description_width\": \"initial\"},\n",
    "    layout=widgets.Layout(width=widget_width, padding=padding),\n",
    ")\n",
    "text2\n",
    "\n",
    "text3 = widgets.Text(\n",
    "    value=\"\",\n",
    "    description=\"Thickness / $\\mu$m:\",\n",
    "    placeholder=\"Enter thickness\",\n",
    "    style={\"description_width\": \"initial\"},\n",
    "    layout=widgets.Layout(width=widget_width, padding=padding),\n",
    ")\n",
    "text3\n",
    "\n",
    "text4 = widgets.Text(\n",
    "    value=\"\",\n",
    "    description=\"Filepath to save the data:\",\n",
    "    placeholder=\"Where do you want to save the data?\",\n",
    "    style={\"description_width\": \"initial\"},\n",
    "    layout=widgets.Layout(width=widget_width, padding=padding),\n",
    ")\n",
    "text4"
   ]
  },
  {
   "cell_type": "code",
   "execution_count": 327,
   "metadata": {},
   "outputs": [
    {
     "data": {
      "application/vnd.jupyter.widget-view+json": {
       "model_id": "948718ac106649689f64aa2a64853586",
       "version_major": 2,
       "version_minor": 0
      },
      "text/plain": [
       "VBox(children=(Text(value='', description='File Path or URL:', layout=Layout(padding='0px 0px 0px 4px', width=…"
      ]
     },
     "metadata": {},
     "output_type": "display_data"
    }
   ],
   "source": [
    "toolbar_widget = widgets.VBox()\n",
    "toolbar_widget.children = [\n",
    "    text0,\n",
    "    text1,\n",
    "    text2,\n",
    "    text3,\n",
    "    text4,\n",
    "]\n",
    "toolbar_widget"
   ]
  },
  {
   "cell_type": "code",
   "execution_count": 308,
   "metadata": {},
   "outputs": [],
   "source": [
    "filename = text0.value\n",
    "Pad_Voltage = float(text1.value)\n",
    "Resistance = float(text2.value)\n",
    "Thickness = float(text3.value) * 10 ** (-6)\n",
    "savename = text4.value"
   ]
  },
  {
   "cell_type": "markdown",
   "metadata": {},
   "source": [
    "Please now input your filename below. If you use a URL please type '?raw=true' after the URL or the data will be read incorrectly. You can also use a file path on your local desktop or via the cloud etc, in which case this should not be necessary.\n",
    "\n",
    "This code will then read in the file to a pandas dataframe and assign each of the columns the names \"Time\" and \"Voltage\" whilst removing the automatically generated script at the top of each column. If you need to access these columns they are saved in the dataframe df and are left unchanged.\n",
    "\n",
    "Make sure you type in the correct resistance in Ohms where prompted to do so. This allows the program to calculate the current using Ohm's law later on which will be important for finding the photocharge and the darkcurrent.\n",
    "\n",
    "Finally, the code removes any 'Not a Number' values (NaN) and resets the index of the dataframe before printing out the first 10 rows so we can check it is formatting correctly."
   ]
  },
  {
   "cell_type": "code",
   "execution_count": 309,
   "metadata": {},
   "outputs": [
    {
     "name": "stdout",
     "output_type": "stream",
     "text": [
      "              Time         Voltage\n",
      "0  -7.90000000e-05  6.40312500e-01\n",
      "1  -7.80000000e-05  6.40218750e-01\n",
      "2  -7.70000000e-05  6.40625000e-01\n",
      "3  -7.60000000e-05  6.40437500e-01\n",
      "4  -7.50000000e-05  6.39437500e-01\n",
      "5  -7.40000000e-05  6.39906250e-01\n",
      "6  -7.30000000e-05  6.40312500e-01\n",
      "7  -7.20000000e-05  6.39656250e-01\n",
      "8  -7.10000000e-05  6.40218750e-01\n",
      "9  -7.00000000e-05  6.40218750e-01\n"
     ]
    }
   ],
   "source": [
    "df = pd.read_csv(filename, header=None, names=[\"Time\", \"Voltage\"])     # Reads the data frame (df) ready for analysis and\n",
    "                                            # assumes there are no headers in the data. If there are headers in the data \n",
    "                                            # delete \"headers = None, names = [\"Time\", \"Current\"]\".\n",
    "df1 = df.drop(labels = [0,1,2,3,4,5,6,7,8], axis = 0)\n",
    "df1.dropna()\n",
    "\n",
    "df1.reset_index(drop = True, inplace = True)\n",
    "print(df1.head(10))"
   ]
  },
  {
   "cell_type": "markdown",
   "metadata": {},
   "source": [
    "Let's look at the first and last 5 data points of our dataframe:"
   ]
  },
  {
   "cell_type": "code",
   "execution_count": 310,
   "metadata": {
    "scrolled": true
   },
   "outputs": [
    {
     "name": "stdout",
     "output_type": "stream",
     "text": [
      "              Time         Voltage\n",
      "0  -7.90000000e-05  6.40312500e-01\n",
      "1  -7.80000000e-05  6.40218750e-01\n",
      "2  -7.70000000e-05  6.40625000e-01\n",
      "3  -7.60000000e-05  6.40437500e-01\n",
      "4  -7.50000000e-05  6.39437500e-01\n",
      " \n",
      "               Time         Voltage\n",
      "995  9.16000000e-04  6.54437500e-01\n",
      "996  9.17000000e-04  6.53937500e-01\n",
      "997  9.18000000e-04  6.54031250e-01\n",
      "998  9.19000000e-04  6.53906250e-01\n",
      "999  9.20000000e-04  6.54468750e-01\n"
     ]
    }
   ],
   "source": [
    "print(df1.head(5))\n",
    "print(\" \")\n",
    "print(df1.tail(5))"
   ]
  },
  {
   "cell_type": "markdown",
   "metadata": {},
   "source": [
    "Since the data seems to have been cleaned and given column titles successfully, let's save our data to a new csv file which we can use for further analysis:"
   ]
  },
  {
   "cell_type": "code",
   "execution_count": 311,
   "metadata": {},
   "outputs": [],
   "source": [
    "df1.to_csv(\"C:/Users/bluse/PycharmProjects/MSciProject/corrected_testdata.csv\", index=False)"
   ]
  },
  {
   "cell_type": "markdown",
   "metadata": {},
   "source": [
    "Now let's ensure that our data is of the correct type, correct it if it is not, and check the memory usage of the dataframe:"
   ]
  },
  {
   "cell_type": "code",
   "execution_count": 312,
   "metadata": {},
   "outputs": [
    {
     "name": "stdout",
     "output_type": "stream",
     "text": [
      "Information about the data:\n",
      " \n",
      "<class 'pandas.core.frame.DataFrame'>\n",
      "RangeIndex: 1000 entries, 0 to 999\n",
      "Data columns (total 2 columns):\n",
      "Time       1000 non-null object\n",
      "Voltage    1000 non-null object\n",
      "dtypes: object(2)\n",
      "memory usage: 15.7+ KB\n",
      "None\n",
      " \n",
      "The datatypes of each column:\n",
      "Time       float64\n",
      "Voltage    float64\n",
      "dtype: object\n"
     ]
    }
   ],
   "source": [
    "print(\"Information about the data:\")                # Provides the number of data points, whether there are null data points,\n",
    "                                                    # the data types, and the memory usage of the dataframe\n",
    "print(\" \")\n",
    "print(df1.info())\n",
    "\n",
    "df1[\"Time\"] = df1[\"Time\"].astype(\"float\")           # Sets the data to datatype 'float64' if it isn't already in this form\n",
    "df1[\"Voltage\"] = df1[\"Voltage\"].astype(\"float\")\n",
    "df1.reset_index(drop = True, inplace = True)        # Resets the index of the dataframe to avoid confusion\n",
    "\n",
    "print(\" \")\n",
    "print(\"The datatypes of each column:\")\n",
    "print(df1.dtypes)                                   # Checks the new datatypes of the columns"
   ]
  },
  {
   "cell_type": "markdown",
   "metadata": {},
   "source": [
    "The data tells us that we have two columns of 'float64' values with no null values (we eliminated those earlier) with information on the number of data values and the amount of memory used by the dataframe. This function can be used on a variety of classes in Python - not just dataframes.\n",
    "\n",
    "Now we can do some quick and easy data analysis just to get an idea of trends within the data (which we will be able to see easily when we plot the data but this is easy analysis and doesnt take much time) but firstly, now that we have the voltage column exclusively in float form, we can add a new current column to our dataframe using Ohm's law. Notice that we have replaced all infinite data values with NaN values and then removed them to ensure any infinities in the data don't ruin our simulations later."
   ]
  },
  {
   "cell_type": "code",
   "execution_count": 313,
   "metadata": {
    "scrolled": true
   },
   "outputs": [
    {
     "name": "stdout",
     "output_type": "stream",
     "text": [
      "A quick statistical description of the data set:\n",
      " \n",
      "              Time     Voltage     Current\n",
      "count  1000.000000  998.000000  998.000000\n",
      "mean      0.000421    0.770120    0.000770\n",
      "std       0.000289    0.215325    0.000215\n",
      "min      -0.000079    0.639437    0.000639\n",
      "25%       0.000171    0.657375    0.000657\n",
      "50%       0.000420    0.675000    0.000675\n",
      "75%       0.000670    0.757344    0.000757\n",
      "max       0.000920    1.999937    0.002000\n"
     ]
    }
   ],
   "source": [
    "df1['Current'] = df1[\"Voltage\"] / Resistance\n",
    "df1.replace([np.inf, -np.inf], np.NaN, inplace=True)\n",
    "df1.dropna()\n",
    "print(\"A quick statistical description of the data set:\")\n",
    "print(\" \")\n",
    "print(df1.describe(include = \"all\"))"
   ]
  },
  {
   "cell_type": "markdown",
   "metadata": {},
   "source": [
    "Let us now plot the data using a line graph in Matplotlib:"
   ]
  },
  {
   "cell_type": "code",
   "execution_count": 314,
   "metadata": {},
   "outputs": [
    {
     "data": {
      "image/png": "[encoded data removed]",
      "text/plain": [
       "<Figure size 432x288 with 1 Axes>"
      ]
     },
     "metadata": {
      "needs_background": "light"
     },
     "output_type": "display_data"
    }
   ],
   "source": [
    "plt.figure()\n",
    "plt.plot(df1[\"Time\"], df1[\"Current\"])\n",
    "plt.title(\"Time of Flight Data\")\n",
    "plt.xlabel(\"Time / s\")\n",
    "plt.ylabel(\"Current / A\")\n",
    "plt.show()"
   ]
  },
  {
   "cell_type": "markdown",
   "metadata": {},
   "source": [
    "We notice the dark current can be found by taking a mean average current for all points where $t<0$ which will be useful for finding the photocharge and then producing our double logarithmic plot of current and time later but will not be helpful for generating our initial polynomial regression of the trend so I will now filter the data into two dataframes - one with values  $t<0$ and the other $t \\geq 0$:"
   ]
  },
  {
   "cell_type": "code",
   "execution_count": 315,
   "metadata": {},
   "outputs": [
    {
     "name": "stdout",
     "output_type": "stream",
     "text": [
      "Sample data from $t<0$\n",
      " \n",
      "       Time   Voltage   Current\n",
      "0  0.000000  0.639781  0.000640\n",
      "1  0.000001  1.986563  0.001987\n",
      "2  0.000002  1.999937  0.002000\n",
      "3  0.000003  1.999937  0.002000\n",
      "4  0.000006  1.967375  0.001967\n",
      " \n",
      "Sample data from $t >= 0$\n",
      " \n",
      "       Time   Voltage   Current\n",
      "0 -0.000079  0.640312  0.000640\n",
      "1 -0.000078  0.640219  0.000640\n",
      "2 -0.000077  0.640625  0.000641\n",
      "3 -0.000076  0.640437  0.000640\n",
      "4 -0.000075  0.639437  0.000639\n"
     ]
    }
   ],
   "source": [
    "with open(\"C:/Users/bluse/PycharmProjects/MSciProject/corrected_testdata.csv\", 'r') as f:\n",
    "    with open(\"C:/Users/bluse/PycharmProjects/MSciProject/corrected_testdata_2.csv\", 'w') as g:\n",
    "        with open(\"C:/Users/bluse/PycharmProjects/MSciProject/correlated_testdata_negative.csv\", 'w') as h:\n",
    "            for row in f:\n",
    "                if row[0] != '-':\n",
    "                    g.write(row)\n",
    "                else:\n",
    "                    h.write(row)\n",
    "                \n",
    "# The above section reads the first corrected file and writes a new csv file containing no values where the first character\n",
    "# is '-' thereby removing all negative values. This means we can still access the data with negative values whilst also\n",
    "# having cleaned the initial data.\n",
    "\n",
    "df2 = pd.read_csv(\"C:/Users/bluse/PycharmProjects/MSciProject/corrected_testdata_2.csv\") # A new dataframe is created.\n",
    "df_negative = pd.read_csv(\"C:/Users/bluse/PycharmProjects/MSciProject/correlated_testdata_negative.csv\", header=None, names=[\"Time\", \"Voltage\"])\n",
    "df2['Current'] = df2[\"Voltage\"] / Resistance\n",
    "df_negative[\"Current\"] = df_negative[\"Voltage\"] / Resistance\n",
    "df2.replace([np.inf, -np.inf], np.NaN, inplace=True)\n",
    "df2.dropna(inplace = True)\n",
    "df2.reset_index(drop = True, inplace = True)\n",
    "print(\"Sample data from $t<0$\")\n",
    "print(\" \")\n",
    "print(df2.head(5))\n",
    "print(\" \")\n",
    "print(\"Sample data from $t >= 0$\")\n",
    "print(\" \")\n",
    "print(df_negative.head(5))"
   ]
  },
  {
   "cell_type": "markdown",
   "metadata": {},
   "source": [
    "Now the algorithm finds the dark current by averaging the current values of datapoints with $t<0$ and subtracts the dark current from the positive t dataframe. It then creates new columns for the logarithm of the time and current values and removes the infinite values created by taking logarithms of negative values (some of the noise with low values of current will be lower than the dark current so appear as negative when the logarithm is applied to them). The new dataframe is then printed out."
   ]
  },
  {
   "cell_type": "code",
   "execution_count": 316,
   "metadata": {},
   "outputs": [
    {
     "name": "stdout",
     "output_type": "stream",
     "text": [
      "0.0006408777689873417\n",
      "DF2 Head\n",
      "       Time   Voltage   Current  Log Time  Log Current\n",
      "1  0.000001  1.986563  0.001346 -6.000000    -2.871057\n",
      "2  0.000002  1.999937  0.001359 -5.698970    -2.866761\n",
      "3  0.000003  1.999937  0.001359 -5.522879    -2.866761\n",
      "4  0.000006  1.967375  0.001326 -5.221849    -2.877294\n",
      "5  0.000007  1.877844  0.001237 -5.154902    -2.907642\n"
     ]
    },
    {
     "name": "stderr",
     "output_type": "stream",
     "text": [
      "C:\\Users\\bluse\\Anaconda3\\lib\\site-packages\\ipykernel_launcher.py:4: RuntimeWarning: divide by zero encountered in log10\n",
      "  after removing the cwd from sys.path.\n",
      "C:\\Users\\bluse\\Anaconda3\\lib\\site-packages\\ipykernel_launcher.py:5: RuntimeWarning: invalid value encountered in log10\n",
      "  \"\"\"\n"
     ]
    }
   ],
   "source": [
    "dark_current = df_negative[\"Current\"].mean()\n",
    "print(dark_current)\n",
    "df2['Current'] -= dark_current\n",
    "df2['Log Time'] = np.log10(df2[\"Time\"])\n",
    "df2['Log Current'] = np.log10(df2[\"Current\"])\n",
    "df2.replace([np.inf, -np.inf], np.NaN, inplace=True)\n",
    "df2.dropna(inplace = True)\n",
    "print(\"DF2 Head\")\n",
    "print(df2.head(5))"
   ]
  },
  {
   "cell_type": "markdown",
   "metadata": {},
   "source": [
    "Now let's create a polynomial regression for the data so that we can calculate the photocharge. We can choose the number of free parameters we wish to use and the number of points in the linspace used to find our polynomial. We then plot the graph of current against time with the graph of the polynomial regression included to allow comparison and fine tuning.\n",
    "\n",
    "Next, the following integral is taken to calculate the photocharge:\n",
    "\n",
    "###                             $Q_{PHOTO} = \\int^{t_{max}}_{t_{min}} I(t) . dt$ "
   ]
  },
  {
   "cell_type": "code",
   "execution_count": 317,
   "metadata": {},
   "outputs": [
    {
     "name": "stdout",
     "output_type": "stream",
     "text": [
      "The generated polynomial regression:\n",
      " \n",
      "           20             19             18            17\n",
      "5.386e+63 x  - 4.738e+61 x  + 1.813e+59 x  - 3.79e+56 x \n",
      "              16             15             14             13\n",
      " + 4.253e+53 x  - 1.315e+50 x  - 2.925e+47 x  + 3.855e+44 x \n",
      "              12             11             10            9\n",
      " - 3.971e+40 x  - 3.676e+38 x  + 4.907e+35 x  - 3.56e+32 x\n",
      "              8             7             6             5             4\n",
      " + 1.719e+29 x - 5.858e+25 x + 1.435e+22 x - 2.533e+18 x + 3.192e+14 x\n",
      "              3             2\n",
      " - 2.796e+10 x + 1.602e+06 x - 55.65 x + 0.001487\n"
     ]
    },
    {
     "name": "stderr",
     "output_type": "stream",
     "text": [
      "C:\\Users\\bluse\\Anaconda3\\lib\\site-packages\\ipykernel_launcher.py:1: RankWarning: Polyfit may be poorly conditioned\n",
      "  \"\"\"Entry point for launching an IPython kernel.\n"
     ]
    },
    {
     "data": {
      "image/png": "[encoded data removed]",
      "text/plain": [
       "<Figure size 432x288 with 1 Axes>"
      ]
     },
     "metadata": {
      "needs_background": "light"
     },
     "output_type": "display_data"
    },
    {
     "name": "stdout",
     "output_type": "stream",
     "text": [
      "Photocharge: 1.3079055610332886e-07 with an error of: 1.065992798562846e-11\n"
     ]
    }
   ],
   "source": [
    "a = np.polyfit(df2[\"Time\"], df2[\"Current\"], 20) # You can change the number of free parameters here\n",
    "b = np.poly1d(a)\n",
    "print(\"The generated polynomial regression:\")\n",
    "print(\" \")\n",
    "print(b)                                        # We generate a polynomial expression for the data\n",
    "\n",
    "myline = np.linspace(df2[\"Time\"].min(), df2[\"Time\"].max(), 1000)    # We can choose the number of linspace points here\n",
    "\n",
    "plt.figure()\n",
    "plt.plot(df2[\"Time\"], df2[\"Current\"])\n",
    "plt.plot(myline, b(myline))\n",
    "plt.title(\"Current against Time\")\n",
    "plt.xlabel(\"Time / s\")\n",
    "plt.ylabel(\"Current / A\")\n",
    "plt.show()\n",
    "\n",
    "photocharge, photocharge_error = integrate.quad(b, df2[\"Time\"].min(), df2[\"Time\"].max()) \n",
    "print(\"Photocharge:\", photocharge, \"with an error of:\", photocharge_error)"
   ]
  },
  {
   "cell_type": "markdown",
   "metadata": {},
   "source": [
    "It is important to note that the error provided here does not take the fact we have converted from the raw data to a polynomial regression into account. \n",
    "\n",
    "Having found the photocharge it would now be wise to plot our double logarithmic plot."
   ]
  },
  {
   "cell_type": "code",
   "execution_count": 318,
   "metadata": {},
   "outputs": [
    {
     "name": "stdout",
     "output_type": "stream",
     "text": [
      "Line plot of the data using matplotlib:\n"
     ]
    },
    {
     "data": {
      "image/png": "[encoded data removed]",
      "text/plain": [
       "<Figure size 432x288 with 1 Axes>"
      ]
     },
     "metadata": {
      "needs_background": "light"
     },
     "output_type": "display_data"
    }
   ],
   "source": [
    "print(\"Line plot of the data using matplotlib:\")\n",
    "plt.figure()\n",
    "plt.plot(df2[\"Log Time\"], df2[\"Log Current\"])\n",
    "plt.title(\"log(Current) against log(Time)\")\n",
    "plt.xlabel(\"log(Time)\")\n",
    "plt.ylabel(\"log(Current)\")\n",
    "plt.show()"
   ]
  },
  {
   "cell_type": "markdown",
   "metadata": {},
   "source": [
    "Let's create a polynomial regression of our double logarithmic plot so that we can apply a knee fitting algorithm to it later. We see in the results that if we try to take a regression across the entire dataset we see large differences in the lowest parts of the data so it will be wise instead to select an area of the data where the knee is likely to occur and then find a different regression curve using only that data to avoid compromising the algorithm (these strange curves at the beginning can confuse the knee finding algorithm).\n",
    "\n",
    "The first graph should be used to visualise where the knee is on the t-axis so that the user can input correct outerbounds for the knee so that the bottom graph encompases the entire knee and can create a useful polynomial. Remember to check and change these values if you don't see a knee in the second graph."
   ]
  },
  {
   "cell_type": "code",
   "execution_count": 319,
   "metadata": {},
   "outputs": [
    {
     "data": {
      "image/png": "[encoded data removed]",
      "text/plain": [
       "<Figure size 432x288 with 1 Axes>"
      ]
     },
     "metadata": {
      "needs_background": "light"
     },
     "output_type": "display_data"
    },
    {
     "name": "stdout",
     "output_type": "stream",
     "text": [
      "The polynomial for the double logarithmic plot:\n",
      " \n",
      "        10         9         8        7        6             5\n",
      "0.1291 x  + 5.586 x + 107.8 x + 1223 x + 9019 x + 4.517e+04 x\n",
      "              4             3             2\n",
      " + 1.556e+05 x + 3.638e+05 x + 5.523e+05 x + 4.916e+05 x + 1.948e+05\n",
      " \n",
      "--------------------------------------------------------------------------------------------------\n"
     ]
    },
    {
     "data": {
      "image/png": "[encoded data removed]",
      "text/plain": [
       "<Figure size 432x288 with 1 Axes>"
      ]
     },
     "metadata": {
      "needs_background": "light"
     },
     "output_type": "display_data"
    },
    {
     "name": "stdout",
     "output_type": "stream",
     "text": [
      "The zoomed-in polynomial for the double logarithmic plot:\n",
      " \n",
      "        6        5             4             3             2\n",
      "-78.32 x - 1815 x - 1.751e+04 x - 8.998e+04 x - 2.598e+05 x - 3.995e+05 x - 2.557e+05\n"
     ]
    }
   ],
   "source": [
    "f = np.polyfit(df2[\"Log Time\"], df2[\"Log Current\"], 10)         # We create a polynomial regression\n",
    "p = np.poly1d(f)\n",
    "\n",
    "myline_1 = np.linspace(df2[\"Log Time\"].min(), df2[\"Log Time\"].max(), 100)  # A linspace is created for the plot\n",
    "\n",
    "plt.figure()\n",
    "plt.plot(df2[\"Log Time\"], df2[\"Log Current\"])\n",
    "plt.plot(myline_1, p(myline_1))\n",
    "plt.title(\"log(Current) against log(Time)\")\n",
    "plt.xlabel(\"log(Time)\")\n",
    "plt.ylabel(\"log(Current)\")\n",
    "plt.show()\n",
    "\n",
    "print(\"The polynomial for the double logarithmic plot:\")\n",
    "print(\" \")\n",
    "print(p)\n",
    "print(\" \")\n",
    "print(\"--------------------------------------------------------------------------------------------------\")\n",
    "df3 = df2[df2[\"Log Time\"] < -3.6]    # These values are where we zoom in along the t axis - change values as needed\n",
    "df3 = df3[df3[\"Log Time\"] > -4.2]\n",
    "\n",
    "f1 = np.polyfit(df3[\"Log Time\"], df3[\"Log Current\"], 6)\n",
    "p1 = np.poly1d(f1)\n",
    "\n",
    "myline_2 = np.linspace(df3[\"Log Time\"].min(), df3[\"Log Time\"].max(), 100)\n",
    "\n",
    "plt.figure()\n",
    "plt.plot(df3[\"Log Time\"], df3[\"Log Current\"])\n",
    "plt.plot(myline_2, p1(myline_2))\n",
    "plt.title(\"log(Current) against log(Time)\")\n",
    "plt.xlabel(\"log(Time)\")\n",
    "plt.ylabel(\"log(Current)\")\n",
    "plt.show()\n",
    "\n",
    "print(\"The zoomed-in polynomial for the double logarithmic plot:\")\n",
    "print(\" \")\n",
    "print(p1)"
   ]
  },
  {
   "cell_type": "markdown",
   "metadata": {},
   "source": [
    "This section of code creates two linear regressions before and after the knee point (using user input numbers to indicate where to search) and then finds where the two lines intersect. You should select values close to where clear curvature appears but on as flat a section of the curve as physically possible. The values returned are the coordinates of the intersection."
   ]
  },
  {
   "cell_type": "code",
   "execution_count": 323,
   "metadata": {},
   "outputs": [
    {
     "name": "stdout",
     "output_type": "stream",
     "text": [
      "The Log(Time) value of the intersection: -3.99771858510395\n",
      "The Log(Current) value of the intersection: -3.34684845325681\n"
     ]
    }
   ],
   "source": [
    "df4 = df3[df3[\"Log Time\"] < -3.8]\n",
    "df5 = df3[df3[\"Log Time\"] > -4.2]\n",
    "\n",
    "v = np.array(df4[\"Log Time\"].values.tolist())\n",
    "w = df4[\"Log Current\"].tolist()\n",
    "x = v.reshape((-1, 1))\n",
    "y = w\n",
    "\n",
    "model = LinearRegression().fit(x, y)\n",
    "intercept_1 = model.intercept_\n",
    "slope_1 = model.coef_\n",
    "#print('intercept:', intercept_1)\n",
    "#print('slope:', slope_1)\n",
    "\n",
    "v = np.array(df5[\"Log Time\"].values.tolist())\n",
    "w = df5[\"Log Current\"].tolist()\n",
    "x = v.reshape((-1, 1))\n",
    "y = w\n",
    "\n",
    "model = LinearRegression().fit(x, y)\n",
    "intercept_2 = model.intercept_\n",
    "slope_2 = model.coef_\n",
    "#print('intercept:', intercept_2)\n",
    "#print('slope:', slope_2)\n",
    "\n",
    "x = Symbol('x')\n",
    "m = solve(intercept_1 -intercept_2 + (slope_1 - slope_2) * x, x)\n",
    "print(\"The Log(Time) value of the intersection:\", m[x])\n",
    "n = intercept_1 + slope_1 * m[x]\n",
    "o = n[0]\n",
    "print(\"The Log(Current) value of the intersection:\", o)"
   ]
  },
  {
   "cell_type": "markdown",
   "metadata": {},
   "source": [
    "Now we will attempt to find a more accurate representation of the knee point using the Kneed package for Python which is designed to search for knees. It can print out the values of the coordinate of the knee and can also print a visual representation of the knee and the knee point."
   ]
  },
  {
   "cell_type": "code",
   "execution_count": 324,
   "metadata": {},
   "outputs": [
    {
     "name": "stdout",
     "output_type": "stream",
     "text": [
      " \n",
      "Log(Time) value of knee point\n",
      "-4.173925197299174\n",
      " \n",
      "Log(Current) value of knee point\n",
      "-3.2574243207570404\n",
      "None\n",
      " \n",
      "Log(Time) value of knee point\n",
      "-3.600326278518962\n",
      " \n",
      "Log(Current) value of knee point\n",
      "-3.928818835605298\n",
      "None\n",
      " \n",
      "Log(Time) value of knee point\n",
      "-3.8820859364216496\n",
      " \n",
      "Log(Current) value of knee point\n",
      "-3.4176861601299606\n",
      "None\n"
     ]
    },
    {
     "data": {
      "image/png": "[encoded data removed]",
      "text/plain": [
       "<Figure size 432x432 with 1 Axes>"
      ]
     },
     "metadata": {
      "needs_background": "light"
     },
     "output_type": "display_data"
    },
    {
     "data": {
      "image/png": "[encoded data removed]",
      "text/plain": [
       "<Figure size 432x432 with 1 Axes>"
      ]
     },
     "metadata": {
      "needs_background": "light"
     },
     "output_type": "display_data"
    },
    {
     "data": {
      "image/png": "[encoded data removed]",
      "text/plain": [
       "<Figure size 432x432 with 1 Axes>"
      ]
     },
     "metadata": {
      "needs_background": "light"
     },
     "output_type": "display_data"
    }
   ],
   "source": [
    "#kneedle = KneeLocator(myline, b(myline), S=1.0, curve = \"convex\", direction = \"decreasing\")\n",
    "#print(\"Knee of the curve\")\n",
    "\n",
    "#print(kneedle.knee)\n",
    "#print(\" \")\n",
    "#print(\"Elbow of the curve\")\n",
    "\n",
    "#print(kneedle.elbow)\n",
    "#print(\" \")\n",
    "#print(\"Current value of knee point\")\n",
    "\n",
    "#print(kneedle.knee_y)\n",
    "#print(kneedle.plot_knee())\n",
    "\n",
    "kneedle_2 = KneeLocator(df5['Log Time'], df5['Log Current'], S=1.0, curve = \"concave\", direction = \"decreasing\", online = True)\n",
    "knee_x = kneedle_2.knee\n",
    "knee_y = kneedle_2.knee_y\n",
    "print(\" \")\n",
    "print(\"Log(Time) value of knee point\")\n",
    "print(knee_x)\n",
    "print(\" \")\n",
    "#print(\"Elbow of the curve\")\n",
    "\n",
    "#print(kneedle_2.elbow)\n",
    "#print(\" \")\n",
    "print(\"Log(Current) value of knee point\")\n",
    "print(knee_y)\n",
    "print(kneedle_2.plot_knee())\n",
    "\n",
    "kneedle_2 = KneeLocator(df5['Log Time'], df5['Log Current'], S=1.0, curve = \"concave\", direction = \"decreasing\", online = True, interp_method = 'polynomial')\n",
    "knee_x = kneedle_2.knee\n",
    "knee_y = kneedle_2.knee_y\n",
    "print(\" \")\n",
    "print(\"Log(Time) value of knee point\")\n",
    "print(knee_x)\n",
    "print(\" \")\n",
    "#print(\"Elbow of the curve\")\n",
    "\n",
    "#print(kneedle_2.elbow)\n",
    "#print(\" \")\n",
    "print(\"Log(Current) value of knee point\")\n",
    "print(knee_y)\n",
    "print(kneedle_2.plot_knee())\n",
    "\n",
    "kneedle_2 = KneeLocator(myline_2, p1(myline_2), S=1.0, curve = \"concave\", direction = \"decreasing\")\n",
    "knee_x = kneedle_2.knee\n",
    "knee_y = kneedle_2.knee_y\n",
    "print(\" \")\n",
    "print(\"Log(Time) value of knee point\")\n",
    "print(knee_x)\n",
    "print(\" \")\n",
    "#print(\"Elbow of the curve\")\n",
    "\n",
    "#print(kneedle_2.elbow)\n",
    "#print(\" \")\n",
    "print(\"Log(Current) value of knee point\")\n",
    "print(knee_y)\n",
    "print(kneedle_2.plot_knee())"
   ]
  },
  {
   "cell_type": "markdown",
   "metadata": {},
   "source": [
    "Finally, this code takes all of the main results from this process and saves them into a csv file. If the file already exists it will append data into the existing table - if the file does not yet exist it will instead create it wherever the filepath has specified."
   ]
  },
  {
   "cell_type": "code",
   "execution_count": 322,
   "metadata": {},
   "outputs": [],
   "source": [
    "data = {'Pad Voltage/V': [Pad_Voltage], 'Resistance/Ohms': [Resistance], 'Thickness/m': [Thickness], 'Time [Fit]/s': [math.e**(m[x])], 'Time [Knee]/s': [math.e**(knee_x)], 'Dark current/A': [dark_current], 'Photocharge/C': [photocharge], 'Photocharge error/C': [photocharge_error], 'Alpha1': [slope_1[0] + 1], 'Alpha2': [1 - slope_2[0]], 'Energy/J': [Pad_Voltage / Thickness], 'Mobility [Fit]': [(Thickness)**2 / (math.e**(o) * Resistance)], 'Mobility [Knee]': [(Thickness)**2 / (math.e**(knee_y) * Resistance)], 'sqrt(Energy)/J': [math.sqrt(Pad_Voltage / Thickness)], 'Log(Time) [Int]': [m[x]], 'Log(Current) [Int]': [o], 'Log(Time) [Knee]': [knee_x], 'Log(Current) [Knee]': [knee_y]}  \n",
    "main_dataframe = pd.DataFrame(data)\n",
    "    \n",
    "if os.path.isfile(savename) == True:\n",
    "    main_dataframe.to_csv(savename, mode = 'a', header = False, index = False)\n",
    "else:\n",
    "    main_dataframe.to_csv(savename, header = True, index = False)"
   ]
  }
 ],
 "metadata": {
  "kernelspec": {
   "display_name": "Python 3",
   "language": "python",
   "name": "python3"
  },
  "language_info": {
   "codemirror_mode": {
    "name": "ipython",
    "version": 3
   },
   "file_extension": ".py",
   "mimetype": "text/x-python",
   "name": "python",
   "nbconvert_exporter": "python",
   "pygments_lexer": "ipython3",
   "version": "3.7.0"
  }
 },
 "nbformat": 4,
 "nbformat_minor": 2
}
