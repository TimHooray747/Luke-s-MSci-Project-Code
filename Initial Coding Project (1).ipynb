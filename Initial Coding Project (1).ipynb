{
 "cells": [
  {
   "cell_type": "markdown",
   "metadata": {},
   "source": [
    "# Initial Coding Project\n",
    "\n",
    "### Introduction\n",
    "\n",
    "My code currently:\n",
    "\n",
    "- Imports the pandas, numpy, matplotlib, seaborn, scipy, kneed, and math modules\n",
    "- Reads in the provided csv files and gives each column appropriate headers\n",
    "- Cleans any missing data\n",
    "- Saves cleaned data into a new csv file\n",
    "- Finds the number of data points, mean, standard deviation, min, max, and quartiles of the data\n",
    "- Checks type of data point, ensures it's 'float' and displays memory usage\n",
    "- Finds the Pearson correlation coefficient between the variables\n",
    "- Displays a plot of the data using Matplotlib\n",
    "- Strips data points where $t<0$ and then plots a linear regression using Seaborn\n",
    "- Converts the current to a logarithmic scale\n",
    "- Attempts to plot the logarithmic current against time with a knee detection algorithm (but currently fails to either plot logarithmically or find a knee)\n"
   ]
  },
  {
   "cell_type": "markdown",
   "metadata": {},
   "source": [
    "Firstly let's install kneed onto our system to ensure we have all the necessary programs. The same code can be used to install any Python module by replacing 'kneed' with 'numpy' etc."
   ]
  },
  {
   "cell_type": "code",
   "execution_count": 31,
   "metadata": {},
   "outputs": [
    {
     "name": "stderr",
     "output_type": "stream",
     "text": [
      "Invalid requirement: '#'\n",
      "Traceback (most recent call last):\n",
      "  File \"C:\\Users\\bluse\\Anaconda3\\lib\\site-packages\\pip\\_vendor\\packaging\\requirements.py\", line 93, in __init__\n",
      "    req = REQUIREMENT.parseString(requirement_string)\n",
      "  File \"C:\\Users\\bluse\\Anaconda3\\lib\\site-packages\\pip\\_vendor\\pyparsing.py\", line 1632, in parseString\n",
      "    raise exc\n",
      "  File \"C:\\Users\\bluse\\Anaconda3\\lib\\site-packages\\pip\\_vendor\\pyparsing.py\", line 1622, in parseString\n",
      "    loc, tokens = self._parse( instring, 0 )\n",
      "  File \"C:\\Users\\bluse\\Anaconda3\\lib\\site-packages\\pip\\_vendor\\pyparsing.py\", line 1379, in _parseNoCache\n",
      "    loc,tokens = self.parseImpl( instring, preloc, doActions )\n",
      "  File \"C:\\Users\\bluse\\Anaconda3\\lib\\site-packages\\pip\\_vendor\\pyparsing.py\", line 3395, in parseImpl\n",
      "    loc, exprtokens = e._parse( instring, loc, doActions )\n",
      "  File \"C:\\Users\\bluse\\Anaconda3\\lib\\site-packages\\pip\\_vendor\\pyparsing.py\", line 1379, in _parseNoCache\n",
      "    loc,tokens = self.parseImpl( instring, preloc, doActions )\n",
      "  File \"C:\\Users\\bluse\\Anaconda3\\lib\\site-packages\\pip\\_vendor\\pyparsing.py\", line 3717, in parseImpl\n",
      "    return self.expr._parse( instring, loc, doActions, callPreParse=False )\n",
      "  File \"C:\\Users\\bluse\\Anaconda3\\lib\\site-packages\\pip\\_vendor\\pyparsing.py\", line 1379, in _parseNoCache\n",
      "    loc,tokens = self.parseImpl( instring, preloc, doActions )\n",
      "  File \"C:\\Users\\bluse\\Anaconda3\\lib\\site-packages\\pip\\_vendor\\pyparsing.py\", line 3378, in parseImpl\n",
      "    loc, resultlist = self.exprs[0]._parse( instring, loc, doActions, callPreParse=False )\n",
      "  File \"C:\\Users\\bluse\\Anaconda3\\lib\\site-packages\\pip\\_vendor\\pyparsing.py\", line 1383, in _parseNoCache\n",
      "    loc,tokens = self.parseImpl( instring, preloc, doActions )\n",
      "  File \"C:\\Users\\bluse\\Anaconda3\\lib\\site-packages\\pip\\_vendor\\pyparsing.py\", line 2689, in parseImpl\n",
      "    raise ParseException(instring, loc, self.errmsg, self)\n",
      "pip._vendor.pyparsing.ParseException: Expected W:(abcd...) (at char 0), (line:1, col:1)\n",
      "\n",
      "During handling of the above exception, another exception occurred:\n",
      "\n",
      "Traceback (most recent call last):\n",
      "  File \"C:\\Users\\bluse\\Anaconda3\\lib\\site-packages\\pip\\_internal\\req\\req_install.py\", line 252, in from_line\n",
      "    req = Requirement(req)\n",
      "  File \"C:\\Users\\bluse\\Anaconda3\\lib\\site-packages\\pip\\_vendor\\packaging\\requirements.py\", line 97, in __init__\n",
      "    requirement_string[e.loc:e.loc + 8]))\n",
      "pip._vendor.packaging.requirements.InvalidRequirement: Invalid requirement, parse error at \"'#'\"\n",
      "\n",
      "You are using pip version 10.0.1, however version 21.3.1 is available.\n",
      "You should consider upgrading via the 'python -m pip install --upgrade pip' command.\n"
     ]
    }
   ],
   "source": [
    "import sys\n",
    "!{sys.executable} -m pip install kneed    # Installs kneed if you don't already have it installed."
   ]
  },
  {
   "cell_type": "markdown",
   "metadata": {},
   "source": [
    "Let's import all of the necessary modules for using the code:"
   ]
  },
  {
   "cell_type": "code",
   "execution_count": 250,
   "metadata": {},
   "outputs": [],
   "source": [
    "import pandas as pd                         # Imports modules which will be used throughout the code.\n",
    "import numpy as np                          \n",
    "import matplotlib                           \n",
    "from matplotlib import pyplot as plt        \n",
    "import seaborn as sns                       \n",
    "from scipy import stats                     \n",
    "from kneed import KneeLocator               \n",
    "import math"
   ]
  },
  {
   "cell_type": "markdown",
   "metadata": {},
   "source": [
    "This code takes your csv file and reads it into the dataframe 'df'. It assigns headers to each of the columns and checks for any values with '?' (a common value assigned by machines when data collection fails so a backstop) and replaces them with 'NaN' (Not a Number) values for computing power. These NaN values are then eliminated from the data for cleaning."
   ]
  },
  {
   "cell_type": "code",
   "execution_count": 251,
   "metadata": {},
   "outputs": [
    {
     "data": {
      "text/html": [
       "<div>\n",
       "<style scoped>\n",
       "    .dataframe tbody tr th:only-of-type {\n",
       "        vertical-align: middle;\n",
       "    }\n",
       "\n",
       "    .dataframe tbody tr th {\n",
       "        vertical-align: top;\n",
       "    }\n",
       "\n",
       "    .dataframe thead th {\n",
       "        text-align: right;\n",
       "    }\n",
       "</style>\n",
       "<table border=\"1\" class=\"dataframe\">\n",
       "  <thead>\n",
       "    <tr style=\"text-align: right;\">\n",
       "      <th></th>\n",
       "      <th>Time</th>\n",
       "      <th>Current</th>\n",
       "    </tr>\n",
       "  </thead>\n",
       "  <tbody>\n",
       "    <tr>\n",
       "      <th>0</th>\n",
       "      <td>-0.000051</td>\n",
       "      <td>0.032792</td>\n",
       "    </tr>\n",
       "    <tr>\n",
       "      <th>1</th>\n",
       "      <td>-0.000051</td>\n",
       "      <td>0.033333</td>\n",
       "    </tr>\n",
       "    <tr>\n",
       "      <th>2</th>\n",
       "      <td>-0.000051</td>\n",
       "      <td>0.034042</td>\n",
       "    </tr>\n",
       "    <tr>\n",
       "      <th>3</th>\n",
       "      <td>-0.000051</td>\n",
       "      <td>0.033552</td>\n",
       "    </tr>\n",
       "    <tr>\n",
       "      <th>4</th>\n",
       "      <td>-0.000051</td>\n",
       "      <td>0.033281</td>\n",
       "    </tr>\n",
       "    <tr>\n",
       "      <th>5</th>\n",
       "      <td>-0.000051</td>\n",
       "      <td>0.033406</td>\n",
       "    </tr>\n",
       "    <tr>\n",
       "      <th>6</th>\n",
       "      <td>-0.000051</td>\n",
       "      <td>0.033969</td>\n",
       "    </tr>\n",
       "    <tr>\n",
       "      <th>7</th>\n",
       "      <td>-0.000051</td>\n",
       "      <td>0.033969</td>\n",
       "    </tr>\n",
       "    <tr>\n",
       "      <th>8</th>\n",
       "      <td>-0.000051</td>\n",
       "      <td>0.033625</td>\n",
       "    </tr>\n",
       "    <tr>\n",
       "      <th>9</th>\n",
       "      <td>-0.000051</td>\n",
       "      <td>0.033365</td>\n",
       "    </tr>\n",
       "    <tr>\n",
       "      <th>10</th>\n",
       "      <td>-0.000051</td>\n",
       "      <td>0.033979</td>\n",
       "    </tr>\n",
       "    <tr>\n",
       "      <th>11</th>\n",
       "      <td>-0.000051</td>\n",
       "      <td>0.033469</td>\n",
       "    </tr>\n",
       "    <tr>\n",
       "      <th>12</th>\n",
       "      <td>-0.000050</td>\n",
       "      <td>0.033448</td>\n",
       "    </tr>\n",
       "    <tr>\n",
       "      <th>13</th>\n",
       "      <td>-0.000050</td>\n",
       "      <td>0.033365</td>\n",
       "    </tr>\n",
       "    <tr>\n",
       "      <th>14</th>\n",
       "      <td>-0.000050</td>\n",
       "      <td>0.033292</td>\n",
       "    </tr>\n",
       "    <tr>\n",
       "      <th>15</th>\n",
       "      <td>-0.000050</td>\n",
       "      <td>0.033292</td>\n",
       "    </tr>\n",
       "    <tr>\n",
       "      <th>16</th>\n",
       "      <td>-0.000050</td>\n",
       "      <td>0.033104</td>\n",
       "    </tr>\n",
       "    <tr>\n",
       "      <th>17</th>\n",
       "      <td>-0.000050</td>\n",
       "      <td>0.033375</td>\n",
       "    </tr>\n",
       "    <tr>\n",
       "      <th>18</th>\n",
       "      <td>-0.000050</td>\n",
       "      <td>0.033844</td>\n",
       "    </tr>\n",
       "    <tr>\n",
       "      <th>19</th>\n",
       "      <td>-0.000050</td>\n",
       "      <td>0.034104</td>\n",
       "    </tr>\n",
       "    <tr>\n",
       "      <th>20</th>\n",
       "      <td>-0.000050</td>\n",
       "      <td>0.033646</td>\n",
       "    </tr>\n",
       "    <tr>\n",
       "      <th>21</th>\n",
       "      <td>-0.000050</td>\n",
       "      <td>0.032927</td>\n",
       "    </tr>\n",
       "    <tr>\n",
       "      <th>22</th>\n",
       "      <td>-0.000050</td>\n",
       "      <td>0.033563</td>\n",
       "    </tr>\n",
       "    <tr>\n",
       "      <th>23</th>\n",
       "      <td>-0.000050</td>\n",
       "      <td>0.033563</td>\n",
       "    </tr>\n",
       "    <tr>\n",
       "      <th>24</th>\n",
       "      <td>-0.000050</td>\n",
       "      <td>0.033469</td>\n",
       "    </tr>\n",
       "    <tr>\n",
       "      <th>25</th>\n",
       "      <td>-0.000050</td>\n",
       "      <td>0.032896</td>\n",
       "    </tr>\n",
       "    <tr>\n",
       "      <th>26</th>\n",
       "      <td>-0.000050</td>\n",
       "      <td>0.033677</td>\n",
       "    </tr>\n",
       "    <tr>\n",
       "      <th>27</th>\n",
       "      <td>-0.000050</td>\n",
       "      <td>0.033563</td>\n",
       "    </tr>\n",
       "    <tr>\n",
       "      <th>28</th>\n",
       "      <td>-0.000050</td>\n",
       "      <td>0.033094</td>\n",
       "    </tr>\n",
       "    <tr>\n",
       "      <th>29</th>\n",
       "      <td>-0.000050</td>\n",
       "      <td>0.033156</td>\n",
       "    </tr>\n",
       "    <tr>\n",
       "      <th>...</th>\n",
       "      <td>...</td>\n",
       "      <td>...</td>\n",
       "    </tr>\n",
       "    <tr>\n",
       "      <th>9971</th>\n",
       "      <td>0.000448</td>\n",
       "      <td>0.035156</td>\n",
       "    </tr>\n",
       "    <tr>\n",
       "      <th>9972</th>\n",
       "      <td>0.000448</td>\n",
       "      <td>0.034927</td>\n",
       "    </tr>\n",
       "    <tr>\n",
       "      <th>9973</th>\n",
       "      <td>0.000448</td>\n",
       "      <td>0.034688</td>\n",
       "    </tr>\n",
       "    <tr>\n",
       "      <th>9974</th>\n",
       "      <td>0.000448</td>\n",
       "      <td>0.035146</td>\n",
       "    </tr>\n",
       "    <tr>\n",
       "      <th>9975</th>\n",
       "      <td>0.000448</td>\n",
       "      <td>0.035146</td>\n",
       "    </tr>\n",
       "    <tr>\n",
       "      <th>9976</th>\n",
       "      <td>0.000448</td>\n",
       "      <td>0.035646</td>\n",
       "    </tr>\n",
       "    <tr>\n",
       "      <th>9977</th>\n",
       "      <td>0.000448</td>\n",
       "      <td>0.035760</td>\n",
       "    </tr>\n",
       "    <tr>\n",
       "      <th>9978</th>\n",
       "      <td>0.000448</td>\n",
       "      <td>0.034531</td>\n",
       "    </tr>\n",
       "    <tr>\n",
       "      <th>9979</th>\n",
       "      <td>0.000448</td>\n",
       "      <td>0.034354</td>\n",
       "    </tr>\n",
       "    <tr>\n",
       "      <th>9980</th>\n",
       "      <td>0.000448</td>\n",
       "      <td>0.035010</td>\n",
       "    </tr>\n",
       "    <tr>\n",
       "      <th>9981</th>\n",
       "      <td>0.000448</td>\n",
       "      <td>0.034948</td>\n",
       "    </tr>\n",
       "    <tr>\n",
       "      <th>9982</th>\n",
       "      <td>0.000448</td>\n",
       "      <td>0.034542</td>\n",
       "    </tr>\n",
       "    <tr>\n",
       "      <th>9983</th>\n",
       "      <td>0.000448</td>\n",
       "      <td>0.034542</td>\n",
       "    </tr>\n",
       "    <tr>\n",
       "      <th>9984</th>\n",
       "      <td>0.000448</td>\n",
       "      <td>0.035344</td>\n",
       "    </tr>\n",
       "    <tr>\n",
       "      <th>9985</th>\n",
       "      <td>0.000448</td>\n",
       "      <td>0.034979</td>\n",
       "    </tr>\n",
       "    <tr>\n",
       "      <th>9986</th>\n",
       "      <td>0.000448</td>\n",
       "      <td>0.034990</td>\n",
       "    </tr>\n",
       "    <tr>\n",
       "      <th>9987</th>\n",
       "      <td>0.000448</td>\n",
       "      <td>0.034677</td>\n",
       "    </tr>\n",
       "    <tr>\n",
       "      <th>9988</th>\n",
       "      <td>0.000448</td>\n",
       "      <td>0.034542</td>\n",
       "    </tr>\n",
       "    <tr>\n",
       "      <th>9989</th>\n",
       "      <td>0.000448</td>\n",
       "      <td>0.034698</td>\n",
       "    </tr>\n",
       "    <tr>\n",
       "      <th>9990</th>\n",
       "      <td>0.000449</td>\n",
       "      <td>0.033917</td>\n",
       "    </tr>\n",
       "    <tr>\n",
       "      <th>9991</th>\n",
       "      <td>0.000449</td>\n",
       "      <td>0.033917</td>\n",
       "    </tr>\n",
       "    <tr>\n",
       "      <th>9992</th>\n",
       "      <td>0.000449</td>\n",
       "      <td>0.035073</td>\n",
       "    </tr>\n",
       "    <tr>\n",
       "      <th>9993</th>\n",
       "      <td>0.000449</td>\n",
       "      <td>0.034625</td>\n",
       "    </tr>\n",
       "    <tr>\n",
       "      <th>9994</th>\n",
       "      <td>0.000449</td>\n",
       "      <td>0.034333</td>\n",
       "    </tr>\n",
       "    <tr>\n",
       "      <th>9995</th>\n",
       "      <td>0.000449</td>\n",
       "      <td>0.034469</td>\n",
       "    </tr>\n",
       "    <tr>\n",
       "      <th>9996</th>\n",
       "      <td>0.000449</td>\n",
       "      <td>0.034646</td>\n",
       "    </tr>\n",
       "    <tr>\n",
       "      <th>9997</th>\n",
       "      <td>0.000449</td>\n",
       "      <td>0.034427</td>\n",
       "    </tr>\n",
       "    <tr>\n",
       "      <th>9998</th>\n",
       "      <td>0.000449</td>\n",
       "      <td>0.034406</td>\n",
       "    </tr>\n",
       "    <tr>\n",
       "      <th>9999</th>\n",
       "      <td>0.000449</td>\n",
       "      <td>0.034406</td>\n",
       "    </tr>\n",
       "    <tr>\n",
       "      <th>10000</th>\n",
       "      <td>0.000449</td>\n",
       "      <td>0.034406</td>\n",
       "    </tr>\n",
       "  </tbody>\n",
       "</table>\n",
       "<p>10001 rows × 2 columns</p>\n",
       "</div>"
      ],
      "text/plain": [
       "           Time   Current\n",
       "0     -0.000051  0.032792\n",
       "1     -0.000051  0.033333\n",
       "2     -0.000051  0.034042\n",
       "3     -0.000051  0.033552\n",
       "4     -0.000051  0.033281\n",
       "5     -0.000051  0.033406\n",
       "6     -0.000051  0.033969\n",
       "7     -0.000051  0.033969\n",
       "8     -0.000051  0.033625\n",
       "9     -0.000051  0.033365\n",
       "10    -0.000051  0.033979\n",
       "11    -0.000051  0.033469\n",
       "12    -0.000050  0.033448\n",
       "13    -0.000050  0.033365\n",
       "14    -0.000050  0.033292\n",
       "15    -0.000050  0.033292\n",
       "16    -0.000050  0.033104\n",
       "17    -0.000050  0.033375\n",
       "18    -0.000050  0.033844\n",
       "19    -0.000050  0.034104\n",
       "20    -0.000050  0.033646\n",
       "21    -0.000050  0.032927\n",
       "22    -0.000050  0.033563\n",
       "23    -0.000050  0.033563\n",
       "24    -0.000050  0.033469\n",
       "25    -0.000050  0.032896\n",
       "26    -0.000050  0.033677\n",
       "27    -0.000050  0.033563\n",
       "28    -0.000050  0.033094\n",
       "29    -0.000050  0.033156\n",
       "...         ...       ...\n",
       "9971   0.000448  0.035156\n",
       "9972   0.000448  0.034927\n",
       "9973   0.000448  0.034688\n",
       "9974   0.000448  0.035146\n",
       "9975   0.000448  0.035146\n",
       "9976   0.000448  0.035646\n",
       "9977   0.000448  0.035760\n",
       "9978   0.000448  0.034531\n",
       "9979   0.000448  0.034354\n",
       "9980   0.000448  0.035010\n",
       "9981   0.000448  0.034948\n",
       "9982   0.000448  0.034542\n",
       "9983   0.000448  0.034542\n",
       "9984   0.000448  0.035344\n",
       "9985   0.000448  0.034979\n",
       "9986   0.000448  0.034990\n",
       "9987   0.000448  0.034677\n",
       "9988   0.000448  0.034542\n",
       "9989   0.000448  0.034698\n",
       "9990   0.000449  0.033917\n",
       "9991   0.000449  0.033917\n",
       "9992   0.000449  0.035073\n",
       "9993   0.000449  0.034625\n",
       "9994   0.000449  0.034333\n",
       "9995   0.000449  0.034469\n",
       "9996   0.000449  0.034646\n",
       "9997   0.000449  0.034427\n",
       "9998   0.000449  0.034406\n",
       "9999   0.000449  0.034406\n",
       "10000  0.000449  0.034406\n",
       "\n",
       "[10001 rows x 2 columns]"
      ]
     },
     "execution_count": 251,
     "metadata": {},
     "output_type": "execute_result"
    }
   ],
   "source": [
    "filename = \"D:/MSci Project Data/Test Data.csv\"  # Insert path to your file here (can be a link to an online dataset)\n",
    "\n",
    "df = pd.read_csv(filename, header=None, names=[\"Time\", \"Current\"])     # Reads the data frame (df) ready for analysis and\n",
    "                                            # assumes there are no headers in the data. If there are headers in the data \n",
    "                                            # delete \"headers = None, names = [\"Time\", \"Current\"]\".\n",
    "        \n",
    "df1 = df.replace('?', np.NaN)               # Replaces unknown values using '?' with 'NaN' for computing efficiency\n",
    "                                            # improvements\n",
    "df1.dropna()                                # Removes datapoints without number values"
   ]
  },
  {
   "cell_type": "markdown",
   "metadata": {},
   "source": [
    "Let's look at the first and last 5 data points of our dataframe:"
   ]
  },
  {
   "cell_type": "code",
   "execution_count": 252,
   "metadata": {
    "scrolled": true
   },
   "outputs": [
    {
     "name": "stdout",
     "output_type": "stream",
     "text": [
      "       Time   Current\n",
      "0 -0.000051  0.032792\n",
      "1 -0.000051  0.033333\n",
      "2 -0.000051  0.034042\n",
      "3 -0.000051  0.033552\n",
      "4 -0.000051  0.033281\n",
      " \n",
      "           Time   Current\n",
      "9996   0.000449  0.034646\n",
      "9997   0.000449  0.034427\n",
      "9998   0.000449  0.034406\n",
      "9999   0.000449  0.034406\n",
      "10000  0.000449  0.034406\n"
     ]
    }
   ],
   "source": [
    "print(df1.head(5))\n",
    "print(\" \")\n",
    "print(df1.tail(5))"
   ]
  },
  {
   "cell_type": "markdown",
   "metadata": {},
   "source": [
    "Since the data seems to have been cleaned and given column titles successfully, let's save our data to a new csv file which we can use for further analysis:"
   ]
  },
  {
   "cell_type": "code",
   "execution_count": 253,
   "metadata": {},
   "outputs": [],
   "source": [
    "df1.to_csv(\"C:/Users/bluse/PycharmProjects/MSciProject/corrected_testdata.csv\", index=False)"
   ]
  },
  {
   "cell_type": "markdown",
   "metadata": {},
   "source": [
    "Now let's ensure that our data is of the correct type, correct it if it is not, and check the memory usage of the dataframe:"
   ]
  },
  {
   "cell_type": "code",
   "execution_count": 254,
   "metadata": {},
   "outputs": [
    {
     "name": "stdout",
     "output_type": "stream",
     "text": [
      "Information about the data:\n",
      " \n",
      "<class 'pandas.core.frame.DataFrame'>\n",
      "RangeIndex: 10001 entries, 0 to 10000\n",
      "Data columns (total 2 columns):\n",
      "Time       10001 non-null float64\n",
      "Current    10001 non-null float64\n",
      "dtypes: float64(2)\n",
      "memory usage: 156.3 KB\n",
      "None\n",
      " \n",
      "The datatypes of each column:\n",
      "Time       float64\n",
      "Current    float64\n",
      "dtype: object\n"
     ]
    }
   ],
   "source": [
    "print(\"Information about the data:\")                # Provides the number of data points, whether there are null data points,\n",
    "                                                    # the data types, and the memory usage of the dataframe\n",
    "print(\" \")\n",
    "print(df1.info())\n",
    "\n",
    "df1[\"Time\"] = df1[\"Time\"].astype(\"float\")           # Sets the data to datatype 'float64' if it isn't already in this form\n",
    "df1[\"Current\"] = df1[\"Current\"].astype(\"float\")\n",
    "df1.reset_index(drop = True, inplace = True)        # Resets the index of the dataframe to avoid confusion\n",
    "\n",
    "print(\" \")\n",
    "print(\"The datatypes of each column:\")\n",
    "print(df1.dtypes)                                   # Checks the new datatypes of the columns"
   ]
  },
  {
   "cell_type": "markdown",
   "metadata": {},
   "source": [
    "Now we can do some quick and easy data analysis just to get an idea of trends within the data (which we will be able to see easily when we plot the data but this is easy analysis and doesnt take much time):"
   ]
  },
  {
   "cell_type": "code",
   "execution_count": 255,
   "metadata": {
    "scrolled": true
   },
   "outputs": [
    {
     "name": "stdout",
     "output_type": "stream",
     "text": [
      "A quick statistical description of the data set:\n",
      " \n",
      "               Time       Current\n",
      "count  10001.000000  10001.000000\n",
      "mean       0.000199      0.049764\n",
      "std        0.000144      0.018159\n",
      "min       -0.000051      0.032156\n",
      "25%        0.000074      0.035990\n",
      "50%        0.000199      0.041260\n",
      "75%        0.000324      0.059708\n",
      "max        0.000449      0.168281\n"
     ]
    }
   ],
   "source": [
    "print(\"A quick statistical description of the data set:\")\n",
    "print(\" \")\n",
    "print(df1.describe(include = \"all\"))"
   ]
  },
  {
   "cell_type": "markdown",
   "metadata": {},
   "source": [
    "The data tells us that we have two columns of 'float64' values with no null values (we eliminated those earlier) with 10,001 values and that the data uses 156.3 KB of memory. This function can be used on a variety of classes in Python - not just dataframes. Another easy piece of analysis we can perform is to find the Pearson correlation coefficient of the data:"
   ]
  },
  {
   "cell_type": "code",
   "execution_count": 256,
   "metadata": {},
   "outputs": [
    {
     "name": "stdout",
     "output_type": "stream",
     "text": [
      "Pearson correlation table between the two variables:\n",
      " \n",
      "             Time   Current\n",
      "Time     1.000000 -0.582288\n",
      "Current -0.582288  1.000000\n"
     ]
    }
   ],
   "source": [
    "print(\"Pearson correlation table between the two variables:\")\n",
    "print(\" \")\n",
    "print(df1.corr())"
   ]
  },
  {
   "cell_type": "markdown",
   "metadata": {},
   "source": [
    "This tells us we have a moderately strong negative correlation between the two variables (which we shall see is true when we plot the data). Let us now plot the data using a scatter plot in Matplotlib:"
   ]
  },
  {
   "cell_type": "code",
   "execution_count": 257,
   "metadata": {},
   "outputs": [
    {
     "name": "stdout",
     "output_type": "stream",
     "text": [
      "Scatter plot of the data using matplotlib:\n"
     ]
    },
    {
     "data": {
      "image/png": "[encoded data removed]",
      "text/plain": [
       "<Figure size 432x288 with 1 Axes>"
      ]
     },
     "metadata": {
      "needs_background": "light"
     },
     "output_type": "display_data"
    }
   ],
   "source": [
    "print(\"Scatter plot of the data using matplotlib:\")\n",
    "plt.figure()\n",
    "plt.plot(df1[\"Time\"], df1[\"Current\"])\n",
    "plt.title(\"Test Plot\")\n",
    "plt.xlabel(\"Time\")\n",
    "plt.ylabel(\"Current\")\n",
    "plt.legend()\n",
    "plt.xlim([-0.0001,0.0005])\n",
    "plt.show()"
   ]
  },
  {
   "cell_type": "markdown",
   "metadata": {},
   "source": [
    "We notice a dark energy of roughly 0.025 on this graph which might be useful to know for the preparation of the data for the addition of logarithmic axes but will not be helpful for our initial linear regression plot so I will now remove all values of data with $t<0$:"
   ]
  },
  {
   "cell_type": "code",
   "execution_count": 258,
   "metadata": {},
   "outputs": [
    {
     "name": "stdout",
     "output_type": "stream",
     "text": [
      "           Time   Current\n",
      "0  8.190000e-19  0.153375\n",
      "1  5.000000e-08  0.168281\n",
      "2  1.000000e-07  0.118823\n",
      "3  1.500000e-07  0.118823\n",
      "4  2.000000e-07  0.156917\n"
     ]
    }
   ],
   "source": [
    "with open(\"C:/Users/bluse/PycharmProjects/MSciProject/corrected_testdata.csv\", 'r') as f:\n",
    "    with open(\"C:/Users/bluse/PycharmProjects/MSciProject/corrected_testdata_2.csv\", 'w') as g:\n",
    "        for row in f:\n",
    "            if row[0] != '-':\n",
    "                g.write(row)\n",
    "                \n",
    "# The above section reads the first corrected file and writes a new csv file containing no values where the first character\n",
    "# is '-' thereby removing all negative values. This means we can still access the data with negative values whilst also\n",
    "# having cleaned the initial data.\n",
    "\n",
    "df2 = pd.read_csv(\"C:/Users/bluse/PycharmProjects/MSciProject/corrected_blah_2.csv\") # A new dataframe is created.\n",
    "\n",
    "print(df2.head(5))"
   ]
  },
  {
   "cell_type": "markdown",
   "metadata": {},
   "source": [
    "Now (for fun and practice), let's plot a linear regression curve of this new dataframe:"
   ]
  },
  {
   "cell_type": "code",
   "execution_count": 259,
   "metadata": {},
   "outputs": [
    {
     "name": "stderr",
     "output_type": "stream",
     "text": [
      "C:\\Users\\bluse\\Anaconda3\\lib\\site-packages\\scipy\\stats\\stats.py:1713: FutureWarning: Using a non-tuple sequence for multidimensional indexing is deprecated; use `arr[tuple(seq)]` instead of `arr[seq]`. In the future this will be interpreted as an array index, `arr[np.array(seq)]`, which will result either in an error or a different result.\n",
      "  return np.add.reduce(sorted[indexer] * weights, axis=axis) / sumval\n"
     ]
    },
    {
     "data": {
      "text/plain": [
       "(0, 0.0004716934149308236)"
      ]
     },
     "execution_count": 259,
     "metadata": {},
     "output_type": "execute_result"
    },
    {
     "data": {
      "image/png": "[encoded data removed]",
      "text/plain": [
       "<Figure size 432x288 with 1 Axes>"
      ]
     },
     "metadata": {
      "needs_background": "light"
     },
     "output_type": "display_data"
    }
   ],
   "source": [
    "sns.regplot(x = \"Time\", y = \"Current\", data = df2)\n",
    "plt.xlim(0,)"
   ]
  },
  {
   "cell_type": "markdown",
   "metadata": {},
   "source": [
    "This cell takes the time and current columns in our dataframe and creates two new columns of data with each value being changed by the function $new data=log_{10}(old data)$:"
   ]
  },
  {
   "cell_type": "code",
   "execution_count": 260,
   "metadata": {},
   "outputs": [
    {
     "name": "stdout",
     "output_type": "stream",
     "text": [
      "DF2 Head\n",
      "           Time   Current   Log Time  Log Current\n",
      "0  8.190000e-19  0.119875 -18.086716    -0.921271\n",
      "1  5.000000e-08  0.134781  -7.301030    -0.870371\n",
      "2  1.000000e-07  0.085323  -7.000000    -1.068934\n",
      "3  1.500000e-07  0.085323  -6.823909    -1.068934\n",
      "4  2.000000e-07  0.123417  -6.698970    -0.908625\n"
     ]
    }
   ],
   "source": [
    "darkenergy = 0.0335\n",
    "df2['Current'] -= darkenergy \n",
    "df2['Log Time'] = np.log10(df2[\"Time\"])\n",
    "df2['Log Current'] = np.log10(df2[\"Current\"])\n",
    "print(\"DF2 Head\")\n",
    "print(df2.head(5))"
   ]
  },
  {
   "cell_type": "markdown",
   "metadata": {},
   "source": [
    "Let's make a plot of this data:"
   ]
  },
  {
   "cell_type": "code",
   "execution_count": 261,
   "metadata": {},
   "outputs": [
    {
     "name": "stdout",
     "output_type": "stream",
     "text": [
      "Line plot of the data using matplotlib:\n"
     ]
    },
    {
     "data": {
      "image/png": "[encoded data removed]",
      "text/plain": [
       "<Figure size 432x288 with 1 Axes>"
      ]
     },
     "metadata": {
      "needs_background": "light"
     },
     "output_type": "display_data"
    }
   ],
   "source": [
    "print(\"Line plot of the data using matplotlib:\")\n",
    "plt.figure()\n",
    "plt.plot(df2[\"Time\"], df2[\"Log Current\"])\n",
    "plt.title(\"log(Current) against Time\")\n",
    "plt.xlabel(\"Time\")\n",
    "plt.ylabel(\"log(Current)\")\n",
    "plt.legend()\n",
    "plt.xlim([-0.0001,0.0005])\n",
    "plt.show()"
   ]
  },
  {
   "cell_type": "markdown",
   "metadata": {},
   "source": [
    "Let's test using a linear regression on this data:"
   ]
  },
  {
   "cell_type": "code",
   "execution_count": 262,
   "metadata": {},
   "outputs": [
    {
     "name": "stderr",
     "output_type": "stream",
     "text": [
      "C:\\Users\\bluse\\Anaconda3\\lib\\site-packages\\scipy\\stats\\stats.py:1713: FutureWarning: Using a non-tuple sequence for multidimensional indexing is deprecated; use `arr[tuple(seq)]` instead of `arr[seq]`. In the future this will be interpreted as an array index, `arr[np.array(seq)]`, which will result either in an error or a different result.\n",
      "  return np.add.reduce(sorted[indexer] * weights, axis=axis) / sumval\n"
     ]
    },
    {
     "data": {
      "text/plain": [
       "(0, 0.0004716934149308236)"
      ]
     },
     "execution_count": 262,
     "metadata": {},
     "output_type": "execute_result"
    },
    {
     "data": {
      "image/png": "[encoded data removed]",
      "text/plain": [
       "<Figure size 432x288 with 1 Axes>"
      ]
     },
     "metadata": {
      "needs_background": "light"
     },
     "output_type": "display_data"
    }
   ],
   "source": [
    "sns.regplot(x = \"Time\", y = \"Log Current\", data = df2, scatter_kws={\"color\": \"black\"}, line_kws={\"color\": \"red\"})\n",
    "plt.xlim(0,)"
   ]
  },
  {
   "cell_type": "code",
   "execution_count": 263,
   "metadata": {},
   "outputs": [
    {
     "name": "stdout",
     "output_type": "stream",
     "text": [
      "           4             3             2\n",
      "5.459e+11 x + 1.128e+10 x - 8.279e+06 x - 2312 x - 1.19\n"
     ]
    },
    {
     "data": {
      "image/png": "[encoded data removed]",
      "text/plain": [
       "<Figure size 432x288 with 1 Axes>"
      ]
     },
     "metadata": {
      "needs_background": "light"
     },
     "output_type": "display_data"
    }
   ],
   "source": [
    "f = np.polyfit(df2[\"Time\"], df2[\"Log Current\"], 4)\n",
    "p = np.poly1d(f)\n",
    "print(p)\n",
    "\n",
    "myline = np.linspace(0, 0.0005, 100)\n",
    "\n",
    "plt.plot(df2[\"Time\"], df2[\"Log Current\"])\n",
    "plt.plot(myline, p(myline))\n",
    "plt.show()"
   ]
  },
  {
   "cell_type": "markdown",
   "metadata": {},
   "source": [
    "This algorithm searches for the knee point in the data and then creates a crude plot of the knee point, firstly for the raw data and then for the data that has been transformed logarithmically. This clearly fails as the knee point is clearly not at the knee. I suspect removing the tail of the data might help mitigate this but I can't be sure yet."
   ]
  },
  {
   "cell_type": "code",
   "execution_count": 264,
   "metadata": {},
   "outputs": [
    {
     "name": "stdout",
     "output_type": "stream",
     "text": [
      "Knee of the curve\n",
      "8.190000000000001e-19\n",
      " \n",
      "Elbow of the curve\n",
      "8.190000000000001e-19\n",
      " \n",
      "Current value of knee point\n",
      "0.11987500000000001\n",
      "None\n",
      " \n",
      "Knee of the curve\n",
      "0.000449\n",
      " \n",
      "Elbow of the curve\n",
      "0.000449\n",
      " \n",
      "Current value of knee point\n",
      "-3.042775942156835\n",
      "None\n"
     ]
    },
    {
     "data": {
      "image/png": "[encoded data removed]",
      "text/plain": [
       "<Figure size 432x432 with 1 Axes>"
      ]
     },
     "metadata": {
      "needs_background": "light"
     },
     "output_type": "display_data"
    },
    {
     "data": {
      "image/png": "[encoded data removed]",
      "text/plain": [
       "<Figure size 432x432 with 1 Axes>"
      ]
     },
     "metadata": {
      "needs_background": "light"
     },
     "output_type": "display_data"
    }
   ],
   "source": [
    "kneedle = KneeLocator(df2[\"Time\"], df2[\"Current\"], S=1.0, curve = \"convex\", direction = \"decreasing\")\n",
    "print(\"Knee of the curve\")\n",
    "\n",
    "print(kneedle.knee)\n",
    "print(\" \")\n",
    "print(\"Elbow of the curve\")\n",
    "\n",
    "print(kneedle.elbow)\n",
    "print(\" \")\n",
    "print(\"Current value of knee point\")\n",
    "\n",
    "print(kneedle.knee_y)\n",
    "print(kneedle.plot_knee())\n",
    "\n",
    "kneedle_2 = KneeLocator(df2[\"Time\"], df2[\"Log Current\"], S=1.0, curve = \"concave\", direction = \"decreasing\")\n",
    "print(\" \")\n",
    "print(\"Knee of the curve\")\n",
    "\n",
    "print(kneedle_2.knee)\n",
    "print(\" \")\n",
    "print(\"Elbow of the curve\")\n",
    "\n",
    "print(kneedle_2.elbow)\n",
    "print(\" \")\n",
    "print(\"Current value of knee point\")\n",
    "\n",
    "print(kneedle_2.knee_y)\n",
    "print(kneedle_2.plot_knee())"
   ]
  }
 ],
 "metadata": {
  "kernelspec": {
   "display_name": "Python 3",
   "language": "python",
   "name": "python3"
  },
  "language_info": {
   "codemirror_mode": {
    "name": "ipython",
    "version": 3
   },
   "file_extension": ".py",
   "mimetype": "text/x-python",
   "name": "python",
   "nbconvert_exporter": "python",
   "pygments_lexer": "ipython3",
   "version": "3.7.0"
  }
 },
 "nbformat": 4,
 "nbformat_minor": 2
}
